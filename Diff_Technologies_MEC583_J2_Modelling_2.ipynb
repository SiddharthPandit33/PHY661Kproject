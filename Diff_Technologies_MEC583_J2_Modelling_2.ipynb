{
 "cells": [
  {
   "cell_type": "code",
   "execution_count": 2,
   "id": "452435f8",
   "metadata": {},
   "outputs": [],
   "source": [
    "%matplotlib inline\n",
    "%load_ext autoreload\n",
    "%autoreload 2"
   ]
  },
  {
   "cell_type": "code",
   "execution_count": 3,
   "id": "572f815d",
   "metadata": {},
   "outputs": [],
   "source": [
    "import os\n",
    "import sys\n",
    "import glob\n",
    "import time\n",
    "import pytz\n",
    "import datetime as dt\n",
    "import dateutil\n",
    "from itertools import chain\n",
    "from cycler import cycler\n",
    "from io import StringIO\n",
    "\n",
    "\n",
    "import numpy as np\n",
    "import pandas as pd\n",
    "from scipy.optimize import curve_fit\n",
    "import matplotlib as mpl\n",
    "import matplotlib.pyplot as plt\n",
    "import matplotlib.dates as mdates\n",
    "import pvlib as pvlib\n",
    "import seaborn as sns\n",
    "\n",
    "\n",
    "ONE_DAY = dt.timedelta(days=1)"
   ]
  },
  {
   "cell_type": "code",
   "execution_count": 4,
   "id": "48bfd785",
   "metadata": {},
   "outputs": [],
   "source": [
    "# Style of figures\n",
    "plt.style.use('seaborn-poster')\n",
    "plt.rcParams['figure.figsize'] = 15, 6.5\n",
    "# get colormap\n",
    "#cmap=plt.cm.hsv\n",
    "cmap =  plt.cm.gist_ncar\n",
    "#cmap=plt.cm.brg\n",
    "# build cycler with 10 equally spaced colors from that colormap\n",
    "c = cycler('color', cmap(np.linspace(0,1,17)) )\n",
    "# supply cycler to the rcParam\n",
    "plt.rcParams[\"axes.prop_cycle\"] = c"
   ]
  },
  {
   "cell_type": "code",
   "execution_count": 5,
   "id": "d32fb330",
   "metadata": {},
   "outputs": [],
   "source": [
    "#function to find all files \n",
    "def find_files(date_1, date_2, mask, bdd_dir):\n",
    "\n",
    "    tmp_date = date_1\n",
    "    list_files = []\n",
    "    while tmp_date <= date_2:\n",
    "        \n",
    "        in_dir = bdd_dir.format(tmp_date)\n",
    "        tmp_file = mask.format(tmp_date)\n",
    "        tmp_file = os.path.join(in_dir, tmp_file)\n",
    "        #print(tmp_file)\n",
    "        tmp_list = sorted(glob.glob(tmp_file))\n",
    "        #print(tmp_list)\n",
    "    \n",
    "        if len(tmp_list) != 0:\n",
    "            list_files.append(tmp_list)\n",
    "        \n",
    "        tmp_date += ONE_DAY\n",
    "    \n",
    "    return sorted([file_ for file_ in chain.from_iterable(list_files)])\n",
    "\n",
    "\n"
   ]
  },
  {
   "cell_type": "code",
   "execution_count": null,
   "id": "77bcd730",
   "metadata": {},
   "outputs": [],
   "source": [
    "## PV Modules DrahiX \n",
    "\n",
    "## Tilt = 30º, Orientation = 2ºW\n",
    "\n",
    "    # 46,48,49,51 LONGI LR6-60PE-310M(reflector plane in face)\n",
    "    # 45,47,50,52 LONGI LR6-60HPH-320M (reflector plane in face)\n",
    "\n",
    "    # 42,43 LONGI LR6-60PE-310M\n",
    "    # 41,44 LONGI LR6-60HPH-320M\n",
    "\n",
    "## Tilt = 20º, Orientation = 2ºW\n",
    "\n",
    "    # 33-40 LONGI_LR6-60BP_305W\n",
    "    # 26,28,29,32 LONGI LR6-60HPH-320M \n",
    "    # 25,27,29,31 LONGI LR6-60PE-310M\n",
    "    # 17-24  QCELLS Q.PEAK DUO-G6 345\n",
    "    #  9-16  VMH 300-6-60-MW (white)\n",
    "    #  1- 8  VMH 300-6-60-MB (black)\n",
    "\n",
    "\n",
    "\n"
   ]
  },
  {
   "cell_type": "code",
   "execution_count": 6,
   "id": "f70b761f",
   "metadata": {},
   "outputs": [],
   "source": [
    "Wp = [300]*8 + [300]*8 + [345]*8 + [310,320]*4 + \\\n",
    "     [305]*8 + [320,310,310,320] + \\\n",
    "     [320,310]*2 + [310,320]*2\n",
    "\n",
    "S = [1.633]*16 + [1.74*1.03]*8 + [1.65*0.991,1.683*0.996]*4 + \\\n",
    "    [1.664*0.996]*8 + [1.683*0.996,1.65*0.991,1.65*0.991,1.683*0.996] + \\\n",
    "    [1.683*0.996,1.65*0.991]*2 + [1.65*0.991,1.683*0.996]*2"
   ]
  },
  {
   "cell_type": "code",
   "execution_count": null,
   "id": "9a4a05c6",
   "metadata": {},
   "outputs": [],
   "source": []
  },
  {
   "cell_type": "markdown",
   "id": "0a46c1f1",
   "metadata": {},
   "source": [
    "# Creating a list of file names"
   ]
  },
  {
   "cell_type": "code",
   "execution_count": 7,
   "id": "3be3f934",
   "metadata": {},
   "outputs": [
    {
     "name": "stdout",
     "output_type": "stream",
     "text": [
      "['PV_DrahiX_modules_Meteo_SIRTA_20200801_20211231.csv']\n"
     ]
    }
   ],
   "source": [
    "folder=''\n",
    "#filename='Real_Time_Saving_{:%Y-%m-%d}*.txt'\n",
    "filename='PV_DrahiX_modules_Meteo_SIRTA_20200801_20211231.csv'\n",
    "#filename='/Users/jbadosa/Downloads/Drahi*.csv'\n",
    "\n",
    "\n",
    "files=glob.glob(filename)\n",
    "print(files)\n",
    "\n",
    "\n"
   ]
  },
  {
   "cell_type": "markdown",
   "id": "e639db75",
   "metadata": {},
   "source": [
    "# Read the Data"
   ]
  },
  {
   "cell_type": "code",
   "execution_count": 9,
   "id": "96c246fd",
   "metadata": {},
   "outputs": [],
   "source": [
    "data = []\n",
    "data = pd.read_csv(\n",
    "    filename, # nom du fichier\n",
    "    sep=',',  # le caractère utilisé comme séparateur de colonne\n",
    "    header=0,  # la ligne contenant le titre des colonnes\n",
    "    infer_datetime_format=True,  # on le laisse tenter de décoder les dates seules\n",
    "    parse_dates=['datetime'],  # on indique les colonnes contenant des dates\n",
    "    index_col=['datetime'],  # la colonne jouant le role \"d'index\", la colonne principale\n",
    ")"
   ]
  },
  {
   "cell_type": "code",
   "execution_count": 10,
   "id": "e1a61c94",
   "metadata": {},
   "outputs": [
    {
     "data": {
      "text/html": [
       "<div>\n",
       "<style scoped>\n",
       "    .dataframe tbody tr th:only-of-type {\n",
       "        vertical-align: middle;\n",
       "    }\n",
       "\n",
       "    .dataframe tbody tr th {\n",
       "        vertical-align: top;\n",
       "    }\n",
       "\n",
       "    .dataframe thead th {\n",
       "        text-align: right;\n",
       "    }\n",
       "</style>\n",
       "<table border=\"1\" class=\"dataframe\">\n",
       "  <thead>\n",
       "    <tr style=\"text-align: right;\">\n",
       "      <th></th>\n",
       "      <th>AirTemp</th>\n",
       "      <th>Diffuse_Solar_Flux</th>\n",
       "      <th>Direct_Solar_Flux</th>\n",
       "      <th>Downwelling_IR_Flux</th>\n",
       "      <th>GHI_TOA</th>\n",
       "      <th>GHI_clear</th>\n",
       "      <th>Global_Solar_Flux</th>\n",
       "      <th>P01</th>\n",
       "      <th>P02</th>\n",
       "      <th>P03</th>\n",
       "      <th>...</th>\n",
       "      <th>SAA</th>\n",
       "      <th>SZA</th>\n",
       "      <th>Tp</th>\n",
       "      <th>Tp_sandia</th>\n",
       "      <th>doy</th>\n",
       "      <th>pres</th>\n",
       "      <th>rain</th>\n",
       "      <th>rh</th>\n",
       "      <th>wd</th>\n",
       "      <th>ws</th>\n",
       "    </tr>\n",
       "    <tr>\n",
       "      <th>datetime</th>\n",
       "      <th></th>\n",
       "      <th></th>\n",
       "      <th></th>\n",
       "      <th></th>\n",
       "      <th></th>\n",
       "      <th></th>\n",
       "      <th></th>\n",
       "      <th></th>\n",
       "      <th></th>\n",
       "      <th></th>\n",
       "      <th></th>\n",
       "      <th></th>\n",
       "      <th></th>\n",
       "      <th></th>\n",
       "      <th></th>\n",
       "      <th></th>\n",
       "      <th></th>\n",
       "      <th></th>\n",
       "      <th></th>\n",
       "      <th></th>\n",
       "      <th></th>\n",
       "    </tr>\n",
       "  </thead>\n",
       "  <tbody>\n",
       "    <tr>\n",
       "      <th>2022-01-02 21:00:00+00:00</th>\n",
       "      <td>NaN</td>\n",
       "      <td>NaN</td>\n",
       "      <td>NaN</td>\n",
       "      <td>NaN</td>\n",
       "      <td>NaN</td>\n",
       "      <td>NaN</td>\n",
       "      <td>NaN</td>\n",
       "      <td>NaN</td>\n",
       "      <td>NaN</td>\n",
       "      <td>NaN</td>\n",
       "      <td>...</td>\n",
       "      <td>NaN</td>\n",
       "      <td>NaN</td>\n",
       "      <td>9.334</td>\n",
       "      <td>NaN</td>\n",
       "      <td>NaN</td>\n",
       "      <td>NaN</td>\n",
       "      <td>NaN</td>\n",
       "      <td>NaN</td>\n",
       "      <td>NaN</td>\n",
       "      <td>NaN</td>\n",
       "    </tr>\n",
       "    <tr>\n",
       "      <th>2022-01-02 21:15:00+00:00</th>\n",
       "      <td>NaN</td>\n",
       "      <td>NaN</td>\n",
       "      <td>NaN</td>\n",
       "      <td>NaN</td>\n",
       "      <td>NaN</td>\n",
       "      <td>NaN</td>\n",
       "      <td>NaN</td>\n",
       "      <td>NaN</td>\n",
       "      <td>NaN</td>\n",
       "      <td>NaN</td>\n",
       "      <td>...</td>\n",
       "      <td>NaN</td>\n",
       "      <td>NaN</td>\n",
       "      <td>9.334</td>\n",
       "      <td>NaN</td>\n",
       "      <td>NaN</td>\n",
       "      <td>NaN</td>\n",
       "      <td>NaN</td>\n",
       "      <td>NaN</td>\n",
       "      <td>NaN</td>\n",
       "      <td>NaN</td>\n",
       "    </tr>\n",
       "    <tr>\n",
       "      <th>2022-01-02 21:30:00+00:00</th>\n",
       "      <td>NaN</td>\n",
       "      <td>NaN</td>\n",
       "      <td>NaN</td>\n",
       "      <td>NaN</td>\n",
       "      <td>NaN</td>\n",
       "      <td>NaN</td>\n",
       "      <td>NaN</td>\n",
       "      <td>NaN</td>\n",
       "      <td>NaN</td>\n",
       "      <td>NaN</td>\n",
       "      <td>...</td>\n",
       "      <td>NaN</td>\n",
       "      <td>NaN</td>\n",
       "      <td>9.048</td>\n",
       "      <td>NaN</td>\n",
       "      <td>NaN</td>\n",
       "      <td>NaN</td>\n",
       "      <td>NaN</td>\n",
       "      <td>NaN</td>\n",
       "      <td>NaN</td>\n",
       "      <td>NaN</td>\n",
       "    </tr>\n",
       "    <tr>\n",
       "      <th>2022-01-02 21:45:00+00:00</th>\n",
       "      <td>NaN</td>\n",
       "      <td>NaN</td>\n",
       "      <td>NaN</td>\n",
       "      <td>NaN</td>\n",
       "      <td>NaN</td>\n",
       "      <td>NaN</td>\n",
       "      <td>NaN</td>\n",
       "      <td>NaN</td>\n",
       "      <td>NaN</td>\n",
       "      <td>NaN</td>\n",
       "      <td>...</td>\n",
       "      <td>NaN</td>\n",
       "      <td>NaN</td>\n",
       "      <td>9.191</td>\n",
       "      <td>NaN</td>\n",
       "      <td>NaN</td>\n",
       "      <td>NaN</td>\n",
       "      <td>NaN</td>\n",
       "      <td>NaN</td>\n",
       "      <td>NaN</td>\n",
       "      <td>NaN</td>\n",
       "    </tr>\n",
       "  </tbody>\n",
       "</table>\n",
       "<p>4 rows × 75 columns</p>\n",
       "</div>"
      ],
      "text/plain": [
       "                           AirTemp  Diffuse_Solar_Flux  Direct_Solar_Flux  \\\n",
       "datetime                                                                    \n",
       "2022-01-02 21:00:00+00:00      NaN                 NaN                NaN   \n",
       "2022-01-02 21:15:00+00:00      NaN                 NaN                NaN   \n",
       "2022-01-02 21:30:00+00:00      NaN                 NaN                NaN   \n",
       "2022-01-02 21:45:00+00:00      NaN                 NaN                NaN   \n",
       "\n",
       "                           Downwelling_IR_Flux  GHI_TOA  GHI_clear  \\\n",
       "datetime                                                             \n",
       "2022-01-02 21:00:00+00:00                  NaN      NaN        NaN   \n",
       "2022-01-02 21:15:00+00:00                  NaN      NaN        NaN   \n",
       "2022-01-02 21:30:00+00:00                  NaN      NaN        NaN   \n",
       "2022-01-02 21:45:00+00:00                  NaN      NaN        NaN   \n",
       "\n",
       "                           Global_Solar_Flux  P01  P02  P03  ...  SAA  SZA  \\\n",
       "datetime                                                     ...             \n",
       "2022-01-02 21:00:00+00:00                NaN  NaN  NaN  NaN  ...  NaN  NaN   \n",
       "2022-01-02 21:15:00+00:00                NaN  NaN  NaN  NaN  ...  NaN  NaN   \n",
       "2022-01-02 21:30:00+00:00                NaN  NaN  NaN  NaN  ...  NaN  NaN   \n",
       "2022-01-02 21:45:00+00:00                NaN  NaN  NaN  NaN  ...  NaN  NaN   \n",
       "\n",
       "                              Tp  Tp_sandia  doy  pres  rain  rh  wd  ws  \n",
       "datetime                                                                  \n",
       "2022-01-02 21:00:00+00:00  9.334        NaN  NaN   NaN   NaN NaN NaN NaN  \n",
       "2022-01-02 21:15:00+00:00  9.334        NaN  NaN   NaN   NaN NaN NaN NaN  \n",
       "2022-01-02 21:30:00+00:00  9.048        NaN  NaN   NaN   NaN NaN NaN NaN  \n",
       "2022-01-02 21:45:00+00:00  9.191        NaN  NaN   NaN   NaN NaN NaN NaN  \n",
       "\n",
       "[4 rows x 75 columns]"
      ]
     },
     "execution_count": 10,
     "metadata": {},
     "output_type": "execute_result"
    }
   ],
   "source": [
    "data.tail(4)"
   ]
  },
  {
   "cell_type": "code",
   "execution_count": 11,
   "id": "776f2863",
   "metadata": {
    "scrolled": true
   },
   "outputs": [
    {
     "data": {
      "text/plain": [
       "Index(['AirTemp', 'Diffuse_Solar_Flux', 'Direct_Solar_Flux',\n",
       "       'Downwelling_IR_Flux', 'GHI_TOA', 'GHI_clear', 'Global_Solar_Flux',\n",
       "       'P01', 'P02', 'P03', 'P04', 'P05', 'P06', 'P07', 'P08', 'P09', 'P10',\n",
       "       'P11', 'P12', 'P13', 'P14', 'P15', 'P16', 'P17', 'P18', 'P19', 'P20',\n",
       "       'P21', 'P22', 'P23', 'P24', 'P25', 'P26', 'P27', 'P28', 'P29', 'P30',\n",
       "       'P31', 'P32', 'P33', 'P34', 'P35', 'P36', 'P37', 'P38', 'P39', 'P40',\n",
       "       'P41', 'P42', 'P43', 'P44', 'P45', 'P46', 'P47', 'P48', 'P49', 'P50',\n",
       "       'P51', 'P52', 'P53', 'PAC', 'PDC', 'POA', 'POAc20', 'POAc30', 'SAA',\n",
       "       'SZA', 'Tp', 'Tp_sandia', 'doy', 'pres', 'rain', 'rh', 'wd', 'ws'],\n",
       "      dtype='object')"
      ]
     },
     "execution_count": 11,
     "metadata": {},
     "output_type": "execute_result"
    }
   ],
   "source": [
    "data.columns"
   ]
  },
  {
   "cell_type": "code",
   "execution_count": 12,
   "id": "1d1ca22c",
   "metadata": {},
   "outputs": [
    {
     "data": {
      "text/html": [
       "<div>\n",
       "<style scoped>\n",
       "    .dataframe tbody tr th:only-of-type {\n",
       "        vertical-align: middle;\n",
       "    }\n",
       "\n",
       "    .dataframe tbody tr th {\n",
       "        vertical-align: top;\n",
       "    }\n",
       "\n",
       "    .dataframe thead th {\n",
       "        text-align: right;\n",
       "    }\n",
       "</style>\n",
       "<table border=\"1\" class=\"dataframe\">\n",
       "  <thead>\n",
       "    <tr style=\"text-align: right;\">\n",
       "      <th></th>\n",
       "      <th>Diffuse_Solar_Flux</th>\n",
       "      <th>Direct_Solar_Flux</th>\n",
       "      <th>Global_Solar_Flux</th>\n",
       "      <th>SAA</th>\n",
       "      <th>SZA</th>\n",
       "      <th>POA</th>\n",
       "      <th>AirTemp</th>\n",
       "      <th>ws</th>\n",
       "      <th>Tp</th>\n",
       "      <th>P01</th>\n",
       "      <th>...</th>\n",
       "      <th>P43</th>\n",
       "      <th>P44</th>\n",
       "      <th>P45</th>\n",
       "      <th>P46</th>\n",
       "      <th>P47</th>\n",
       "      <th>P48</th>\n",
       "      <th>P49</th>\n",
       "      <th>P50</th>\n",
       "      <th>P51</th>\n",
       "      <th>P52</th>\n",
       "    </tr>\n",
       "    <tr>\n",
       "      <th>datetime</th>\n",
       "      <th></th>\n",
       "      <th></th>\n",
       "      <th></th>\n",
       "      <th></th>\n",
       "      <th></th>\n",
       "      <th></th>\n",
       "      <th></th>\n",
       "      <th></th>\n",
       "      <th></th>\n",
       "      <th></th>\n",
       "      <th></th>\n",
       "      <th></th>\n",
       "      <th></th>\n",
       "      <th></th>\n",
       "      <th></th>\n",
       "      <th></th>\n",
       "      <th></th>\n",
       "      <th></th>\n",
       "      <th></th>\n",
       "      <th></th>\n",
       "      <th></th>\n",
       "    </tr>\n",
       "  </thead>\n",
       "  <tbody>\n",
       "    <tr>\n",
       "      <th>2020-08-01 00:00:00+00:00</th>\n",
       "      <td>-1.077</td>\n",
       "      <td>-0.377</td>\n",
       "      <td>-0.875</td>\n",
       "      <td>-177.411</td>\n",
       "      <td>90.0</td>\n",
       "      <td>13.040</td>\n",
       "      <td>23.492</td>\n",
       "      <td>2.298</td>\n",
       "      <td>NaN</td>\n",
       "      <td>NaN</td>\n",
       "      <td>...</td>\n",
       "      <td>NaN</td>\n",
       "      <td>NaN</td>\n",
       "      <td>NaN</td>\n",
       "      <td>NaN</td>\n",
       "      <td>NaN</td>\n",
       "      <td>NaN</td>\n",
       "      <td>NaN</td>\n",
       "      <td>NaN</td>\n",
       "      <td>NaN</td>\n",
       "      <td>NaN</td>\n",
       "    </tr>\n",
       "    <tr>\n",
       "      <th>2020-08-01 00:15:00+00:00</th>\n",
       "      <td>-1.173</td>\n",
       "      <td>-0.450</td>\n",
       "      <td>-0.928</td>\n",
       "      <td>-173.536</td>\n",
       "      <td>90.0</td>\n",
       "      <td>7.705</td>\n",
       "      <td>23.027</td>\n",
       "      <td>2.226</td>\n",
       "      <td>NaN</td>\n",
       "      <td>NaN</td>\n",
       "      <td>...</td>\n",
       "      <td>NaN</td>\n",
       "      <td>NaN</td>\n",
       "      <td>NaN</td>\n",
       "      <td>NaN</td>\n",
       "      <td>NaN</td>\n",
       "      <td>NaN</td>\n",
       "      <td>NaN</td>\n",
       "      <td>NaN</td>\n",
       "      <td>NaN</td>\n",
       "      <td>NaN</td>\n",
       "    </tr>\n",
       "    <tr>\n",
       "      <th>2020-08-01 00:30:00+00:00</th>\n",
       "      <td>-1.173</td>\n",
       "      <td>-0.471</td>\n",
       "      <td>-0.917</td>\n",
       "      <td>-169.682</td>\n",
       "      <td>90.0</td>\n",
       "      <td>6.943</td>\n",
       "      <td>22.518</td>\n",
       "      <td>2.416</td>\n",
       "      <td>NaN</td>\n",
       "      <td>NaN</td>\n",
       "      <td>...</td>\n",
       "      <td>NaN</td>\n",
       "      <td>NaN</td>\n",
       "      <td>NaN</td>\n",
       "      <td>NaN</td>\n",
       "      <td>NaN</td>\n",
       "      <td>NaN</td>\n",
       "      <td>NaN</td>\n",
       "      <td>NaN</td>\n",
       "      <td>NaN</td>\n",
       "      <td>NaN</td>\n",
       "    </tr>\n",
       "    <tr>\n",
       "      <th>2020-08-01 00:45:00+00:00</th>\n",
       "      <td>-1.170</td>\n",
       "      <td>-0.428</td>\n",
       "      <td>-0.978</td>\n",
       "      <td>-165.862</td>\n",
       "      <td>90.0</td>\n",
       "      <td>9.992</td>\n",
       "      <td>22.145</td>\n",
       "      <td>2.792</td>\n",
       "      <td>NaN</td>\n",
       "      <td>NaN</td>\n",
       "      <td>...</td>\n",
       "      <td>NaN</td>\n",
       "      <td>NaN</td>\n",
       "      <td>NaN</td>\n",
       "      <td>NaN</td>\n",
       "      <td>NaN</td>\n",
       "      <td>NaN</td>\n",
       "      <td>NaN</td>\n",
       "      <td>NaN</td>\n",
       "      <td>NaN</td>\n",
       "      <td>NaN</td>\n",
       "    </tr>\n",
       "    <tr>\n",
       "      <th>2020-08-01 01:00:00+00:00</th>\n",
       "      <td>-1.173</td>\n",
       "      <td>-0.419</td>\n",
       "      <td>-1.001</td>\n",
       "      <td>-162.088</td>\n",
       "      <td>90.0</td>\n",
       "      <td>6.181</td>\n",
       "      <td>21.883</td>\n",
       "      <td>2.694</td>\n",
       "      <td>NaN</td>\n",
       "      <td>NaN</td>\n",
       "      <td>...</td>\n",
       "      <td>NaN</td>\n",
       "      <td>NaN</td>\n",
       "      <td>NaN</td>\n",
       "      <td>NaN</td>\n",
       "      <td>NaN</td>\n",
       "      <td>NaN</td>\n",
       "      <td>NaN</td>\n",
       "      <td>NaN</td>\n",
       "      <td>NaN</td>\n",
       "      <td>NaN</td>\n",
       "    </tr>\n",
       "    <tr>\n",
       "      <th>...</th>\n",
       "      <td>...</td>\n",
       "      <td>...</td>\n",
       "      <td>...</td>\n",
       "      <td>...</td>\n",
       "      <td>...</td>\n",
       "      <td>...</td>\n",
       "      <td>...</td>\n",
       "      <td>...</td>\n",
       "      <td>...</td>\n",
       "      <td>...</td>\n",
       "      <td>...</td>\n",
       "      <td>...</td>\n",
       "      <td>...</td>\n",
       "      <td>...</td>\n",
       "      <td>...</td>\n",
       "      <td>...</td>\n",
       "      <td>...</td>\n",
       "      <td>...</td>\n",
       "      <td>...</td>\n",
       "      <td>...</td>\n",
       "      <td>...</td>\n",
       "    </tr>\n",
       "    <tr>\n",
       "      <th>2022-01-02 20:45:00+00:00</th>\n",
       "      <td>NaN</td>\n",
       "      <td>NaN</td>\n",
       "      <td>NaN</td>\n",
       "      <td>NaN</td>\n",
       "      <td>NaN</td>\n",
       "      <td>6.181</td>\n",
       "      <td>NaN</td>\n",
       "      <td>NaN</td>\n",
       "      <td>9.334</td>\n",
       "      <td>NaN</td>\n",
       "      <td>...</td>\n",
       "      <td>NaN</td>\n",
       "      <td>NaN</td>\n",
       "      <td>NaN</td>\n",
       "      <td>NaN</td>\n",
       "      <td>NaN</td>\n",
       "      <td>NaN</td>\n",
       "      <td>NaN</td>\n",
       "      <td>NaN</td>\n",
       "      <td>NaN</td>\n",
       "      <td>NaN</td>\n",
       "    </tr>\n",
       "    <tr>\n",
       "      <th>2022-01-02 21:00:00+00:00</th>\n",
       "      <td>NaN</td>\n",
       "      <td>NaN</td>\n",
       "      <td>NaN</td>\n",
       "      <td>NaN</td>\n",
       "      <td>NaN</td>\n",
       "      <td>6.181</td>\n",
       "      <td>NaN</td>\n",
       "      <td>NaN</td>\n",
       "      <td>9.334</td>\n",
       "      <td>NaN</td>\n",
       "      <td>...</td>\n",
       "      <td>NaN</td>\n",
       "      <td>NaN</td>\n",
       "      <td>NaN</td>\n",
       "      <td>NaN</td>\n",
       "      <td>NaN</td>\n",
       "      <td>NaN</td>\n",
       "      <td>NaN</td>\n",
       "      <td>NaN</td>\n",
       "      <td>NaN</td>\n",
       "      <td>NaN</td>\n",
       "    </tr>\n",
       "    <tr>\n",
       "      <th>2022-01-02 21:15:00+00:00</th>\n",
       "      <td>NaN</td>\n",
       "      <td>NaN</td>\n",
       "      <td>NaN</td>\n",
       "      <td>NaN</td>\n",
       "      <td>NaN</td>\n",
       "      <td>6.181</td>\n",
       "      <td>NaN</td>\n",
       "      <td>NaN</td>\n",
       "      <td>9.334</td>\n",
       "      <td>NaN</td>\n",
       "      <td>...</td>\n",
       "      <td>NaN</td>\n",
       "      <td>NaN</td>\n",
       "      <td>NaN</td>\n",
       "      <td>NaN</td>\n",
       "      <td>NaN</td>\n",
       "      <td>NaN</td>\n",
       "      <td>NaN</td>\n",
       "      <td>NaN</td>\n",
       "      <td>NaN</td>\n",
       "      <td>NaN</td>\n",
       "    </tr>\n",
       "    <tr>\n",
       "      <th>2022-01-02 21:30:00+00:00</th>\n",
       "      <td>NaN</td>\n",
       "      <td>NaN</td>\n",
       "      <td>NaN</td>\n",
       "      <td>NaN</td>\n",
       "      <td>NaN</td>\n",
       "      <td>6.181</td>\n",
       "      <td>NaN</td>\n",
       "      <td>NaN</td>\n",
       "      <td>9.048</td>\n",
       "      <td>NaN</td>\n",
       "      <td>...</td>\n",
       "      <td>NaN</td>\n",
       "      <td>NaN</td>\n",
       "      <td>NaN</td>\n",
       "      <td>NaN</td>\n",
       "      <td>NaN</td>\n",
       "      <td>NaN</td>\n",
       "      <td>NaN</td>\n",
       "      <td>NaN</td>\n",
       "      <td>NaN</td>\n",
       "      <td>NaN</td>\n",
       "    </tr>\n",
       "    <tr>\n",
       "      <th>2022-01-02 21:45:00+00:00</th>\n",
       "      <td>NaN</td>\n",
       "      <td>NaN</td>\n",
       "      <td>NaN</td>\n",
       "      <td>NaN</td>\n",
       "      <td>NaN</td>\n",
       "      <td>6.181</td>\n",
       "      <td>NaN</td>\n",
       "      <td>NaN</td>\n",
       "      <td>9.191</td>\n",
       "      <td>NaN</td>\n",
       "      <td>...</td>\n",
       "      <td>NaN</td>\n",
       "      <td>NaN</td>\n",
       "      <td>NaN</td>\n",
       "      <td>NaN</td>\n",
       "      <td>NaN</td>\n",
       "      <td>NaN</td>\n",
       "      <td>NaN</td>\n",
       "      <td>NaN</td>\n",
       "      <td>NaN</td>\n",
       "      <td>NaN</td>\n",
       "    </tr>\n",
       "  </tbody>\n",
       "</table>\n",
       "<p>49912 rows × 61 columns</p>\n",
       "</div>"
      ],
      "text/plain": [
       "                           Diffuse_Solar_Flux  Direct_Solar_Flux  \\\n",
       "datetime                                                           \n",
       "2020-08-01 00:00:00+00:00              -1.077             -0.377   \n",
       "2020-08-01 00:15:00+00:00              -1.173             -0.450   \n",
       "2020-08-01 00:30:00+00:00              -1.173             -0.471   \n",
       "2020-08-01 00:45:00+00:00              -1.170             -0.428   \n",
       "2020-08-01 01:00:00+00:00              -1.173             -0.419   \n",
       "...                                       ...                ...   \n",
       "2022-01-02 20:45:00+00:00                 NaN                NaN   \n",
       "2022-01-02 21:00:00+00:00                 NaN                NaN   \n",
       "2022-01-02 21:15:00+00:00                 NaN                NaN   \n",
       "2022-01-02 21:30:00+00:00                 NaN                NaN   \n",
       "2022-01-02 21:45:00+00:00                 NaN                NaN   \n",
       "\n",
       "                           Global_Solar_Flux      SAA   SZA     POA  AirTemp  \\\n",
       "datetime                                                                       \n",
       "2020-08-01 00:00:00+00:00             -0.875 -177.411  90.0  13.040   23.492   \n",
       "2020-08-01 00:15:00+00:00             -0.928 -173.536  90.0   7.705   23.027   \n",
       "2020-08-01 00:30:00+00:00             -0.917 -169.682  90.0   6.943   22.518   \n",
       "2020-08-01 00:45:00+00:00             -0.978 -165.862  90.0   9.992   22.145   \n",
       "2020-08-01 01:00:00+00:00             -1.001 -162.088  90.0   6.181   21.883   \n",
       "...                                      ...      ...   ...     ...      ...   \n",
       "2022-01-02 20:45:00+00:00                NaN      NaN   NaN   6.181      NaN   \n",
       "2022-01-02 21:00:00+00:00                NaN      NaN   NaN   6.181      NaN   \n",
       "2022-01-02 21:15:00+00:00                NaN      NaN   NaN   6.181      NaN   \n",
       "2022-01-02 21:30:00+00:00                NaN      NaN   NaN   6.181      NaN   \n",
       "2022-01-02 21:45:00+00:00                NaN      NaN   NaN   6.181      NaN   \n",
       "\n",
       "                              ws     Tp  P01  ...  P43  P44  P45  P46  P47  \\\n",
       "datetime                                      ...                            \n",
       "2020-08-01 00:00:00+00:00  2.298    NaN  NaN  ...  NaN  NaN  NaN  NaN  NaN   \n",
       "2020-08-01 00:15:00+00:00  2.226    NaN  NaN  ...  NaN  NaN  NaN  NaN  NaN   \n",
       "2020-08-01 00:30:00+00:00  2.416    NaN  NaN  ...  NaN  NaN  NaN  NaN  NaN   \n",
       "2020-08-01 00:45:00+00:00  2.792    NaN  NaN  ...  NaN  NaN  NaN  NaN  NaN   \n",
       "2020-08-01 01:00:00+00:00  2.694    NaN  NaN  ...  NaN  NaN  NaN  NaN  NaN   \n",
       "...                          ...    ...  ...  ...  ...  ...  ...  ...  ...   \n",
       "2022-01-02 20:45:00+00:00    NaN  9.334  NaN  ...  NaN  NaN  NaN  NaN  NaN   \n",
       "2022-01-02 21:00:00+00:00    NaN  9.334  NaN  ...  NaN  NaN  NaN  NaN  NaN   \n",
       "2022-01-02 21:15:00+00:00    NaN  9.334  NaN  ...  NaN  NaN  NaN  NaN  NaN   \n",
       "2022-01-02 21:30:00+00:00    NaN  9.048  NaN  ...  NaN  NaN  NaN  NaN  NaN   \n",
       "2022-01-02 21:45:00+00:00    NaN  9.191  NaN  ...  NaN  NaN  NaN  NaN  NaN   \n",
       "\n",
       "                           P48  P49  P50  P51  P52  \n",
       "datetime                                            \n",
       "2020-08-01 00:00:00+00:00  NaN  NaN  NaN  NaN  NaN  \n",
       "2020-08-01 00:15:00+00:00  NaN  NaN  NaN  NaN  NaN  \n",
       "2020-08-01 00:30:00+00:00  NaN  NaN  NaN  NaN  NaN  \n",
       "2020-08-01 00:45:00+00:00  NaN  NaN  NaN  NaN  NaN  \n",
       "2020-08-01 01:00:00+00:00  NaN  NaN  NaN  NaN  NaN  \n",
       "...                        ...  ...  ...  ...  ...  \n",
       "2022-01-02 20:45:00+00:00  NaN  NaN  NaN  NaN  NaN  \n",
       "2022-01-02 21:00:00+00:00  NaN  NaN  NaN  NaN  NaN  \n",
       "2022-01-02 21:15:00+00:00  NaN  NaN  NaN  NaN  NaN  \n",
       "2022-01-02 21:30:00+00:00  NaN  NaN  NaN  NaN  NaN  \n",
       "2022-01-02 21:45:00+00:00  NaN  NaN  NaN  NaN  NaN  \n",
       "\n",
       "[49912 rows x 61 columns]"
      ]
     },
     "execution_count": 12,
     "metadata": {},
     "output_type": "execute_result"
    }
   ],
   "source": [
    "Clean_data = data[[\"Diffuse_Solar_Flux\", \"Direct_Solar_Flux\",\n",
    "                   \"Global_Solar_Flux\",\n",
    "                   \"SAA\",\"SZA\", \"POA\", \"AirTemp\", \"ws\",\"Tp\",\n",
    "                   'P01', 'P02', 'P03', 'P04', 'P05', 'P06', 'P07', 'P08', 'P09', 'P10',\n",
    "       'P11', 'P12', 'P13', 'P14', 'P15', 'P16', 'P17', 'P18', 'P19', 'P20',\n",
    "       'P21', 'P22', 'P23', 'P24', 'P25', 'P26', 'P27', 'P28', 'P29', 'P30',\n",
    "       'P31', 'P32', 'P33', 'P34', 'P35', 'P36', 'P37', 'P38', 'P39', 'P40',\n",
    "       'P41', 'P42', 'P43', 'P44', 'P45', 'P46', 'P47', 'P48', 'P49', 'P50',\n",
    "       'P51', 'P52',]]\n",
    "Clean_data"
   ]
  },
  {
   "cell_type": "code",
   "execution_count": 13,
   "id": "f5582b0e",
   "metadata": {},
   "outputs": [
    {
     "name": "stderr",
     "output_type": "stream",
     "text": [
      "/opt/anaconda3/lib/python3.8/site-packages/pandas/core/frame.py:4524: SettingWithCopyWarning: \n",
      "A value is trying to be set on a copy of a slice from a DataFrame\n",
      "\n",
      "See the caveats in the documentation: https://pandas.pydata.org/pandas-docs/stable/user_guide/indexing.html#returning-a-view-versus-a-copy\n",
      "  return super().replace(\n",
      "<ipython-input-13-14801a9d8d69>:2: SettingWithCopyWarning: \n",
      "A value is trying to be set on a copy of a slice from a DataFrame\n",
      "\n",
      "See the caveats in the documentation: https://pandas.pydata.org/pandas-docs/stable/user_guide/indexing.html#returning-a-view-versus-a-copy\n",
      "  Clean_data.dropna(inplace=True)\n"
     ]
    },
    {
     "data": {
      "text/html": [
       "<div>\n",
       "<style scoped>\n",
       "    .dataframe tbody tr th:only-of-type {\n",
       "        vertical-align: middle;\n",
       "    }\n",
       "\n",
       "    .dataframe tbody tr th {\n",
       "        vertical-align: top;\n",
       "    }\n",
       "\n",
       "    .dataframe thead th {\n",
       "        text-align: right;\n",
       "    }\n",
       "</style>\n",
       "<table border=\"1\" class=\"dataframe\">\n",
       "  <thead>\n",
       "    <tr style=\"text-align: right;\">\n",
       "      <th></th>\n",
       "      <th>Diffuse_Solar_Flux</th>\n",
       "      <th>Direct_Solar_Flux</th>\n",
       "      <th>Global_Solar_Flux</th>\n",
       "      <th>SAA</th>\n",
       "      <th>SZA</th>\n",
       "      <th>POA</th>\n",
       "      <th>AirTemp</th>\n",
       "      <th>ws</th>\n",
       "      <th>Tp</th>\n",
       "      <th>P01</th>\n",
       "      <th>...</th>\n",
       "      <th>P43</th>\n",
       "      <th>P44</th>\n",
       "      <th>P45</th>\n",
       "      <th>P46</th>\n",
       "      <th>P47</th>\n",
       "      <th>P48</th>\n",
       "      <th>P49</th>\n",
       "      <th>P50</th>\n",
       "      <th>P51</th>\n",
       "      <th>P52</th>\n",
       "    </tr>\n",
       "    <tr>\n",
       "      <th>datetime</th>\n",
       "      <th></th>\n",
       "      <th></th>\n",
       "      <th></th>\n",
       "      <th></th>\n",
       "      <th></th>\n",
       "      <th></th>\n",
       "      <th></th>\n",
       "      <th></th>\n",
       "      <th></th>\n",
       "      <th></th>\n",
       "      <th></th>\n",
       "      <th></th>\n",
       "      <th></th>\n",
       "      <th></th>\n",
       "      <th></th>\n",
       "      <th></th>\n",
       "      <th></th>\n",
       "      <th></th>\n",
       "      <th></th>\n",
       "      <th></th>\n",
       "      <th></th>\n",
       "    </tr>\n",
       "  </thead>\n",
       "  <tbody>\n",
       "    <tr>\n",
       "      <th>2020-09-10 16:15:00+00:00</th>\n",
       "      <td>115.557</td>\n",
       "      <td>616.806</td>\n",
       "      <td>299.701</td>\n",
       "      <td>76.671</td>\n",
       "      <td>72.576</td>\n",
       "      <td>326.266</td>\n",
       "      <td>25.117</td>\n",
       "      <td>1.489</td>\n",
       "      <td>30.392</td>\n",
       "      <td>63.618</td>\n",
       "      <td>...</td>\n",
       "      <td>94.552</td>\n",
       "      <td>103.974</td>\n",
       "      <td>106.367</td>\n",
       "      <td>99.085</td>\n",
       "      <td>102.576</td>\n",
       "      <td>104.296</td>\n",
       "      <td>32.948</td>\n",
       "      <td>39.747</td>\n",
       "      <td>102.291</td>\n",
       "      <td>106.469</td>\n",
       "    </tr>\n",
       "    <tr>\n",
       "      <th>2020-09-10 16:30:00+00:00</th>\n",
       "      <td>80.555</td>\n",
       "      <td>554.803</td>\n",
       "      <td>223.628</td>\n",
       "      <td>79.636</td>\n",
       "      <td>75.001</td>\n",
       "      <td>229.478</td>\n",
       "      <td>24.845</td>\n",
       "      <td>2.261</td>\n",
       "      <td>30.105</td>\n",
       "      <td>37.748</td>\n",
       "      <td>...</td>\n",
       "      <td>66.347</td>\n",
       "      <td>76.132</td>\n",
       "      <td>69.968</td>\n",
       "      <td>68.382</td>\n",
       "      <td>72.388</td>\n",
       "      <td>75.474</td>\n",
       "      <td>21.428</td>\n",
       "      <td>24.670</td>\n",
       "      <td>65.382</td>\n",
       "      <td>78.326</td>\n",
       "    </tr>\n",
       "    <tr>\n",
       "      <th>2020-09-10 17:15:00+00:00</th>\n",
       "      <td>37.224</td>\n",
       "      <td>329.035</td>\n",
       "      <td>81.668</td>\n",
       "      <td>88.253</td>\n",
       "      <td>82.386</td>\n",
       "      <td>62.577</td>\n",
       "      <td>24.268</td>\n",
       "      <td>1.915</td>\n",
       "      <td>23.372</td>\n",
       "      <td>12.696</td>\n",
       "      <td>...</td>\n",
       "      <td>23.600</td>\n",
       "      <td>21.284</td>\n",
       "      <td>13.097</td>\n",
       "      <td>18.356</td>\n",
       "      <td>16.813</td>\n",
       "      <td>22.213</td>\n",
       "      <td>8.648</td>\n",
       "      <td>10.020</td>\n",
       "      <td>11.412</td>\n",
       "      <td>10.488</td>\n",
       "    </tr>\n",
       "    <tr>\n",
       "      <th>2020-09-10 17:30:00+00:00</th>\n",
       "      <td>26.669</td>\n",
       "      <td>214.327</td>\n",
       "      <td>45.824</td>\n",
       "      <td>91.071</td>\n",
       "      <td>84.863</td>\n",
       "      <td>25.996</td>\n",
       "      <td>24.043</td>\n",
       "      <td>1.799</td>\n",
       "      <td>21.367</td>\n",
       "      <td>6.541</td>\n",
       "      <td>...</td>\n",
       "      <td>7.827</td>\n",
       "      <td>5.092</td>\n",
       "      <td>4.490</td>\n",
       "      <td>4.532</td>\n",
       "      <td>5.830</td>\n",
       "      <td>7.249</td>\n",
       "      <td>6.435</td>\n",
       "      <td>6.383</td>\n",
       "      <td>7.556</td>\n",
       "      <td>5.758</td>\n",
       "    </tr>\n",
       "    <tr>\n",
       "      <th>2020-09-11 06:00:00+00:00</th>\n",
       "      <td>45.545</td>\n",
       "      <td>204.438</td>\n",
       "      <td>70.595</td>\n",
       "      <td>-89.165</td>\n",
       "      <td>83.453</td>\n",
       "      <td>45.048</td>\n",
       "      <td>15.522</td>\n",
       "      <td>1.427</td>\n",
       "      <td>11.626</td>\n",
       "      <td>15.284</td>\n",
       "      <td>...</td>\n",
       "      <td>11.747</td>\n",
       "      <td>10.426</td>\n",
       "      <td>9.751</td>\n",
       "      <td>10.436</td>\n",
       "      <td>11.037</td>\n",
       "      <td>9.609</td>\n",
       "      <td>10.805</td>\n",
       "      <td>12.138</td>\n",
       "      <td>10.760</td>\n",
       "      <td>11.653</td>\n",
       "    </tr>\n",
       "    <tr>\n",
       "      <th>...</th>\n",
       "      <td>...</td>\n",
       "      <td>...</td>\n",
       "      <td>...</td>\n",
       "      <td>...</td>\n",
       "      <td>...</td>\n",
       "      <td>...</td>\n",
       "      <td>...</td>\n",
       "      <td>...</td>\n",
       "      <td>...</td>\n",
       "      <td>...</td>\n",
       "      <td>...</td>\n",
       "      <td>...</td>\n",
       "      <td>...</td>\n",
       "      <td>...</td>\n",
       "      <td>...</td>\n",
       "      <td>...</td>\n",
       "      <td>...</td>\n",
       "      <td>...</td>\n",
       "      <td>...</td>\n",
       "      <td>...</td>\n",
       "      <td>...</td>\n",
       "    </tr>\n",
       "    <tr>\n",
       "      <th>2021-12-31 14:15:00+00:00</th>\n",
       "      <td>56.442</td>\n",
       "      <td>573.277</td>\n",
       "      <td>167.197</td>\n",
       "      <td>34.388</td>\n",
       "      <td>79.035</td>\n",
       "      <td>335.411</td>\n",
       "      <td>14.259</td>\n",
       "      <td>3.084</td>\n",
       "      <td>22.799</td>\n",
       "      <td>59.701</td>\n",
       "      <td>...</td>\n",
       "      <td>127.711</td>\n",
       "      <td>79.201</td>\n",
       "      <td>73.345</td>\n",
       "      <td>19.622</td>\n",
       "      <td>74.190</td>\n",
       "      <td>21.998</td>\n",
       "      <td>33.059</td>\n",
       "      <td>79.384</td>\n",
       "      <td>23.009</td>\n",
       "      <td>73.933</td>\n",
       "    </tr>\n",
       "    <tr>\n",
       "      <th>2021-12-31 14:30:00+00:00</th>\n",
       "      <td>72.811</td>\n",
       "      <td>327.503</td>\n",
       "      <td>129.575</td>\n",
       "      <td>37.567</td>\n",
       "      <td>80.487</td>\n",
       "      <td>195.184</td>\n",
       "      <td>14.295</td>\n",
       "      <td>2.421</td>\n",
       "      <td>21.224</td>\n",
       "      <td>44.089</td>\n",
       "      <td>...</td>\n",
       "      <td>87.016</td>\n",
       "      <td>60.152</td>\n",
       "      <td>48.205</td>\n",
       "      <td>25.503</td>\n",
       "      <td>42.576</td>\n",
       "      <td>33.534</td>\n",
       "      <td>28.178</td>\n",
       "      <td>55.179</td>\n",
       "      <td>28.381</td>\n",
       "      <td>75.443</td>\n",
       "    </tr>\n",
       "    <tr>\n",
       "      <th>2021-12-31 14:45:00+00:00</th>\n",
       "      <td>60.465</td>\n",
       "      <td>0.186</td>\n",
       "      <td>60.427</td>\n",
       "      <td>40.680</td>\n",
       "      <td>82.047</td>\n",
       "      <td>61.053</td>\n",
       "      <td>14.051</td>\n",
       "      <td>2.467</td>\n",
       "      <td>16.353</td>\n",
       "      <td>17.617</td>\n",
       "      <td>...</td>\n",
       "      <td>16.294</td>\n",
       "      <td>16.271</td>\n",
       "      <td>15.866</td>\n",
       "      <td>16.899</td>\n",
       "      <td>16.916</td>\n",
       "      <td>17.248</td>\n",
       "      <td>17.987</td>\n",
       "      <td>17.263</td>\n",
       "      <td>18.686</td>\n",
       "      <td>17.759</td>\n",
       "    </tr>\n",
       "    <tr>\n",
       "      <th>2021-12-31 15:00:00+00:00</th>\n",
       "      <td>53.043</td>\n",
       "      <td>0.021</td>\n",
       "      <td>53.055</td>\n",
       "      <td>43.727</td>\n",
       "      <td>83.708</td>\n",
       "      <td>54.956</td>\n",
       "      <td>13.727</td>\n",
       "      <td>2.515</td>\n",
       "      <td>14.634</td>\n",
       "      <td>16.081</td>\n",
       "      <td>...</td>\n",
       "      <td>14.533</td>\n",
       "      <td>14.440</td>\n",
       "      <td>14.275</td>\n",
       "      <td>15.871</td>\n",
       "      <td>16.235</td>\n",
       "      <td>17.144</td>\n",
       "      <td>17.080</td>\n",
       "      <td>14.987</td>\n",
       "      <td>16.841</td>\n",
       "      <td>16.167</td>\n",
       "    </tr>\n",
       "    <tr>\n",
       "      <th>2021-12-31 15:30:00+00:00</th>\n",
       "      <td>23.334</td>\n",
       "      <td>-0.207</td>\n",
       "      <td>23.419</td>\n",
       "      <td>49.632</td>\n",
       "      <td>87.305</td>\n",
       "      <td>24.472</td>\n",
       "      <td>13.399</td>\n",
       "      <td>2.250</td>\n",
       "      <td>12.199</td>\n",
       "      <td>6.110</td>\n",
       "      <td>...</td>\n",
       "      <td>6.270</td>\n",
       "      <td>6.398</td>\n",
       "      <td>5.719</td>\n",
       "      <td>5.316</td>\n",
       "      <td>6.074</td>\n",
       "      <td>7.224</td>\n",
       "      <td>7.399</td>\n",
       "      <td>6.000</td>\n",
       "      <td>8.677</td>\n",
       "      <td>6.021</td>\n",
       "    </tr>\n",
       "  </tbody>\n",
       "</table>\n",
       "<p>14468 rows × 61 columns</p>\n",
       "</div>"
      ],
      "text/plain": [
       "                           Diffuse_Solar_Flux  Direct_Solar_Flux  \\\n",
       "datetime                                                           \n",
       "2020-09-10 16:15:00+00:00             115.557            616.806   \n",
       "2020-09-10 16:30:00+00:00              80.555            554.803   \n",
       "2020-09-10 17:15:00+00:00              37.224            329.035   \n",
       "2020-09-10 17:30:00+00:00              26.669            214.327   \n",
       "2020-09-11 06:00:00+00:00              45.545            204.438   \n",
       "...                                       ...                ...   \n",
       "2021-12-31 14:15:00+00:00              56.442            573.277   \n",
       "2021-12-31 14:30:00+00:00              72.811            327.503   \n",
       "2021-12-31 14:45:00+00:00              60.465              0.186   \n",
       "2021-12-31 15:00:00+00:00              53.043              0.021   \n",
       "2021-12-31 15:30:00+00:00              23.334             -0.207   \n",
       "\n",
       "                           Global_Solar_Flux     SAA     SZA      POA  \\\n",
       "datetime                                                                \n",
       "2020-09-10 16:15:00+00:00            299.701  76.671  72.576  326.266   \n",
       "2020-09-10 16:30:00+00:00            223.628  79.636  75.001  229.478   \n",
       "2020-09-10 17:15:00+00:00             81.668  88.253  82.386   62.577   \n",
       "2020-09-10 17:30:00+00:00             45.824  91.071  84.863   25.996   \n",
       "2020-09-11 06:00:00+00:00             70.595 -89.165  83.453   45.048   \n",
       "...                                      ...     ...     ...      ...   \n",
       "2021-12-31 14:15:00+00:00            167.197  34.388  79.035  335.411   \n",
       "2021-12-31 14:30:00+00:00            129.575  37.567  80.487  195.184   \n",
       "2021-12-31 14:45:00+00:00             60.427  40.680  82.047   61.053   \n",
       "2021-12-31 15:00:00+00:00             53.055  43.727  83.708   54.956   \n",
       "2021-12-31 15:30:00+00:00             23.419  49.632  87.305   24.472   \n",
       "\n",
       "                           AirTemp     ws      Tp     P01  ...      P43  \\\n",
       "datetime                                                   ...            \n",
       "2020-09-10 16:15:00+00:00   25.117  1.489  30.392  63.618  ...   94.552   \n",
       "2020-09-10 16:30:00+00:00   24.845  2.261  30.105  37.748  ...   66.347   \n",
       "2020-09-10 17:15:00+00:00   24.268  1.915  23.372  12.696  ...   23.600   \n",
       "2020-09-10 17:30:00+00:00   24.043  1.799  21.367   6.541  ...    7.827   \n",
       "2020-09-11 06:00:00+00:00   15.522  1.427  11.626  15.284  ...   11.747   \n",
       "...                            ...    ...     ...     ...  ...      ...   \n",
       "2021-12-31 14:15:00+00:00   14.259  3.084  22.799  59.701  ...  127.711   \n",
       "2021-12-31 14:30:00+00:00   14.295  2.421  21.224  44.089  ...   87.016   \n",
       "2021-12-31 14:45:00+00:00   14.051  2.467  16.353  17.617  ...   16.294   \n",
       "2021-12-31 15:00:00+00:00   13.727  2.515  14.634  16.081  ...   14.533   \n",
       "2021-12-31 15:30:00+00:00   13.399  2.250  12.199   6.110  ...    6.270   \n",
       "\n",
       "                               P44      P45     P46      P47      P48     P49  \\\n",
       "datetime                                                                        \n",
       "2020-09-10 16:15:00+00:00  103.974  106.367  99.085  102.576  104.296  32.948   \n",
       "2020-09-10 16:30:00+00:00   76.132   69.968  68.382   72.388   75.474  21.428   \n",
       "2020-09-10 17:15:00+00:00   21.284   13.097  18.356   16.813   22.213   8.648   \n",
       "2020-09-10 17:30:00+00:00    5.092    4.490   4.532    5.830    7.249   6.435   \n",
       "2020-09-11 06:00:00+00:00   10.426    9.751  10.436   11.037    9.609  10.805   \n",
       "...                            ...      ...     ...      ...      ...     ...   \n",
       "2021-12-31 14:15:00+00:00   79.201   73.345  19.622   74.190   21.998  33.059   \n",
       "2021-12-31 14:30:00+00:00   60.152   48.205  25.503   42.576   33.534  28.178   \n",
       "2021-12-31 14:45:00+00:00   16.271   15.866  16.899   16.916   17.248  17.987   \n",
       "2021-12-31 15:00:00+00:00   14.440   14.275  15.871   16.235   17.144  17.080   \n",
       "2021-12-31 15:30:00+00:00    6.398    5.719   5.316    6.074    7.224   7.399   \n",
       "\n",
       "                              P50      P51      P52  \n",
       "datetime                                             \n",
       "2020-09-10 16:15:00+00:00  39.747  102.291  106.469  \n",
       "2020-09-10 16:30:00+00:00  24.670   65.382   78.326  \n",
       "2020-09-10 17:15:00+00:00  10.020   11.412   10.488  \n",
       "2020-09-10 17:30:00+00:00   6.383    7.556    5.758  \n",
       "2020-09-11 06:00:00+00:00  12.138   10.760   11.653  \n",
       "...                           ...      ...      ...  \n",
       "2021-12-31 14:15:00+00:00  79.384   23.009   73.933  \n",
       "2021-12-31 14:30:00+00:00  55.179   28.381   75.443  \n",
       "2021-12-31 14:45:00+00:00  17.263   18.686   17.759  \n",
       "2021-12-31 15:00:00+00:00  14.987   16.841   16.167  \n",
       "2021-12-31 15:30:00+00:00   6.000    8.677    6.021  \n",
       "\n",
       "[14468 rows x 61 columns]"
      ]
     },
     "execution_count": 13,
     "metadata": {},
     "output_type": "execute_result"
    }
   ],
   "source": [
    "Clean_data.replace([np.inf, -np.inf], np.nan, inplace=True)\n",
    "Clean_data.dropna(inplace=True)\n",
    "Clean_data"
   ]
  },
  {
   "cell_type": "code",
   "execution_count": null,
   "id": "9c6b58a3",
   "metadata": {},
   "outputs": [],
   "source": []
  },
  {
   "cell_type": "code",
   "execution_count": null,
   "id": "88063fce",
   "metadata": {},
   "outputs": [],
   "source": []
  },
  {
   "cell_type": "code",
   "execution_count": null,
   "id": "da83a3fb",
   "metadata": {},
   "outputs": [],
   "source": []
  },
  {
   "cell_type": "markdown",
   "id": "27971fb9",
   "metadata": {},
   "source": [
    "# Modelling Power using best POA and Temp Models for P05(Mono-Si Black)"
   ]
  },
  {
   "cell_type": "code",
   "execution_count": 14,
   "id": "d991b41c",
   "metadata": {},
   "outputs": [
    {
     "name": "stderr",
     "output_type": "stream",
     "text": [
      "<ipython-input-14-655ce3a3fbc6>:7: SettingWithCopyWarning: \n",
      "A value is trying to be set on a copy of a slice from a DataFrame.\n",
      "Try using .loc[row_indexer,col_indexer] = value instead\n",
      "\n",
      "See the caveats in the documentation: https://pandas.pydata.org/pandas-docs/stable/user_guide/indexing.html#returning-a-view-versus-a-copy\n",
      "  Clean_data['GHI_TOA']=(pvlib.irradiance.get_extra_radiation(datetime_or_doy=doy)*np.cos(Clean_data.SZA))\n",
      "<ipython-input-14-655ce3a3fbc6>:18: SettingWithCopyWarning: \n",
      "A value is trying to be set on a copy of a slice from a DataFrame.\n",
      "Try using .loc[row_indexer,col_indexer] = value instead\n",
      "\n",
      "See the caveats in the documentation: https://pandas.pydata.org/pandas-docs/stable/user_guide/indexing.html#returning-a-view-versus-a-copy\n",
      "  Clean_data['Sky_Diffuse_Isotropic_POA_P05']=total_irrads.poa_global\n"
     ]
    },
    {
     "data": {
      "text/plain": [
       "datetime\n",
       "2020-09-10 16:15:00+00:00    340.648730\n",
       "2020-09-10 16:30:00+00:00    253.645781\n",
       "2020-09-10 17:15:00+00:00     84.851072\n",
       "2020-09-10 17:30:00+00:00     45.357905\n",
       "2020-09-11 06:00:00+00:00     65.088941\n",
       "                                ...    \n",
       "2021-12-31 14:15:00+00:00    320.763499\n",
       "2021-12-31 14:30:00+00:00    212.121623\n",
       "2021-12-31 14:45:00+00:00     59.079544\n",
       "2021-12-31 15:00:00+00:00     51.771009\n",
       "2021-12-31 15:30:00+00:00     22.771628\n",
       "Name: Sky_Diffuse_Isotropic_POA_P05, Length: 14468, dtype: float64"
      ]
     },
     "execution_count": 14,
     "metadata": {},
     "output_type": "execute_result"
    }
   ],
   "source": [
    "#Modelling POA for P05\n",
    "air_mass = pvlib.atmosphere.get_relative_airmass(Clean_data.SZA, model='kasten1966')\n",
    "tilt=20\n",
    "ori = 2\n",
    "doy = Clean_data.index.dayofyear\n",
    "\n",
    "Clean_data['GHI_TOA']=(pvlib.irradiance.get_extra_radiation(datetime_or_doy=doy)*np.cos(Clean_data.SZA))\n",
    "\n",
    "total_irrads=pvlib.irradiance.get_total_irradiance(surface_tilt=tilt,surface_azimuth=ori,\n",
    "                                         solar_zenith=Clean_data.SZA,solar_azimuth=Clean_data.SAA,\n",
    "                                         dni=Clean_data.Direct_Solar_Flux,\n",
    "                                         ghi=Clean_data.Global_Solar_Flux,\n",
    "                                         dhi=Clean_data.Diffuse_Solar_Flux,\n",
    "                                         dni_extra=Clean_data.GHI_TOA,\n",
    "                                         airmass=air_mass,\n",
    "                                         albedo=.20,\n",
    "                                         model='isotropic')\n",
    "Clean_data['Sky_Diffuse_Isotropic_POA_P05']=total_irrads.poa_global\n",
    "Clean_data.Sky_Diffuse_Isotropic_POA_P05"
   ]
  },
  {
   "cell_type": "code",
   "execution_count": 15,
   "id": "af74c61d",
   "metadata": {},
   "outputs": [
    {
     "name": "stderr",
     "output_type": "stream",
     "text": [
      "<ipython-input-15-8cbd1dfe163f>:2: SettingWithCopyWarning: \n",
      "A value is trying to be set on a copy of a slice from a DataFrame.\n",
      "Try using .loc[row_indexer,col_indexer] = value instead\n",
      "\n",
      "See the caveats in the documentation: https://pandas.pydata.org/pandas-docs/stable/user_guide/indexing.html#returning-a-view-versus-a-copy\n",
      "  Clean_data['SAPM_Temp_Model_P05']=pvlib.temperature.sapm_module(poa_global=Clean_data.Sky_Diffuse_Isotropic_POA_P05,\n"
     ]
    },
    {
     "data": {
      "text/plain": [
       "datetime\n",
       "2020-09-10 16:15:00+00:00    33.781003\n",
       "2020-09-10 16:30:00+00:00    30.933269\n",
       "2020-09-10 17:15:00+00:00    26.358227\n",
       "2020-09-10 17:30:00+00:00    25.170113\n",
       "2020-09-11 06:00:00+00:00    17.185177\n",
       "                               ...    \n",
       "2021-12-31 14:15:00+00:00    21.497428\n",
       "2021-12-31 14:30:00+00:00    19.325829\n",
       "2021-12-31 14:45:00+00:00    15.447347\n",
       "2021-12-31 15:00:00+00:00    14.946213\n",
       "2021-12-31 15:30:00+00:00    13.946039\n",
       "Name: SAPM_Temp_Model_P05, Length: 14468, dtype: float64"
      ]
     },
     "execution_count": 15,
     "metadata": {},
     "output_type": "execute_result"
    }
   ],
   "source": [
    "#Temp Modelling for P05\n",
    "Clean_data['SAPM_Temp_Model_P05']=pvlib.temperature.sapm_module(poa_global=Clean_data.Sky_Diffuse_Isotropic_POA_P05, \n",
    "                                                                temp_air=Clean_data.AirTemp,\n",
    "                                                                wind_speed=Clean_data.ws, a=-3.56, b=-0.075)\n",
    "Clean_data.SAPM_Temp_Model_P05"
   ]
  },
  {
   "cell_type": "code",
   "execution_count": 16,
   "id": "3983a9e0",
   "metadata": {},
   "outputs": [
    {
     "name": "stderr",
     "output_type": "stream",
     "text": [
      "<ipython-input-16-18e9e1be8b5e>:1: SettingWithCopyWarning: \n",
      "A value is trying to be set on a copy of a slice from a DataFrame.\n",
      "Try using .loc[row_indexer,col_indexer] = value instead\n",
      "\n",
      "See the caveats in the documentation: https://pandas.pydata.org/pandas-docs/stable/user_guide/indexing.html#returning-a-view-versus-a-copy\n",
      "  Clean_data['Power_Model_P05'] = pvlib.pvsystem.pvwatts_dc(g_poa_effective=Clean_data.Sky_Diffuse_Isotropic_POA_P05,\n"
     ]
    },
    {
     "data": {
      "text/plain": [
       "datetime\n",
       "2020-09-10 16:15:00+00:00    98.874345\n",
       "2020-09-10 16:30:00+00:00    74.423241\n",
       "2020-09-10 17:15:00+00:00    25.327398\n",
       "2020-09-10 17:30:00+00:00    13.598807\n",
       "2020-09-11 06:00:00+00:00    20.091293\n",
       "                               ...    \n",
       "2021-12-31 14:15:00+00:00    97.476132\n",
       "2021-12-31 14:30:00+00:00    64.972499\n",
       "2021-12-31 14:45:00+00:00    18.350310\n",
       "2021-12-31 15:00:00+00:00    16.109052\n",
       "2021-12-31 15:30:00+00:00     7.110894\n",
       "Name: Power_Model_P05, Length: 14468, dtype: float64"
      ]
     },
     "execution_count": 16,
     "metadata": {},
     "output_type": "execute_result"
    }
   ],
   "source": [
    "Clean_data['Power_Model_P05'] = pvlib.pvsystem.pvwatts_dc(g_poa_effective=Clean_data.Sky_Diffuse_Isotropic_POA_P05,\n",
    "                                                          temp_cell=Clean_data.SAPM_Temp_Model_P05,\n",
    "                                                          pdc0=300,\n",
    "                                                          gamma_pdc=-0.0037,\n",
    "                                                          temp_ref=25.0)\n",
    "Clean_data.Power_Model_P05"
   ]
  },
  {
   "cell_type": "code",
   "execution_count": 17,
   "id": "f64c9697",
   "metadata": {},
   "outputs": [
    {
     "name": "stderr",
     "output_type": "stream",
     "text": [
      "/opt/anaconda3/lib/python3.8/site-packages/pandas/core/frame.py:4524: SettingWithCopyWarning: \n",
      "A value is trying to be set on a copy of a slice from a DataFrame\n",
      "\n",
      "See the caveats in the documentation: https://pandas.pydata.org/pandas-docs/stable/user_guide/indexing.html#returning-a-view-versus-a-copy\n",
      "  return super().replace(\n",
      "<ipython-input-17-3e59d4e8f270>:2: SettingWithCopyWarning: \n",
      "A value is trying to be set on a copy of a slice from a DataFrame\n",
      "\n",
      "See the caveats in the documentation: https://pandas.pydata.org/pandas-docs/stable/user_guide/indexing.html#returning-a-view-versus-a-copy\n",
      "  Clean_data.dropna(inplace=True)\n"
     ]
    },
    {
     "data": {
      "text/plain": [
       "datetime\n",
       "2020-09-10 16:15:00+00:00    98.874345\n",
       "2020-09-10 16:30:00+00:00    74.423241\n",
       "2020-09-10 17:15:00+00:00    25.327398\n",
       "2020-09-10 17:30:00+00:00    13.598807\n",
       "2020-09-11 06:00:00+00:00    20.091293\n",
       "                               ...    \n",
       "2021-12-31 14:15:00+00:00    97.476132\n",
       "2021-12-31 14:30:00+00:00    64.972499\n",
       "2021-12-31 14:45:00+00:00    18.350310\n",
       "2021-12-31 15:00:00+00:00    16.109052\n",
       "2021-12-31 15:30:00+00:00     7.110894\n",
       "Name: Power_Model_P05, Length: 14468, dtype: float64"
      ]
     },
     "execution_count": 17,
     "metadata": {},
     "output_type": "execute_result"
    }
   ],
   "source": [
    "Clean_data.replace([np.inf, -np.inf], np.nan, inplace=True)\n",
    "Clean_data.dropna(inplace=True)\n",
    "Clean_data.Power_Model_P05"
   ]
  },
  {
   "cell_type": "code",
   "execution_count": 18,
   "id": "aad415d0",
   "metadata": {},
   "outputs": [
    {
     "data": {
      "text/plain": [
       "Index(['Diffuse_Solar_Flux', 'Direct_Solar_Flux', 'Global_Solar_Flux', 'SAA',\n",
       "       'SZA', 'POA', 'AirTemp', 'ws', 'Tp', 'P01', 'P02', 'P03', 'P04', 'P05',\n",
       "       'P06', 'P07', 'P08', 'P09', 'P10', 'P11', 'P12', 'P13', 'P14', 'P15',\n",
       "       'P16', 'P17', 'P18', 'P19', 'P20', 'P21', 'P22', 'P23', 'P24', 'P25',\n",
       "       'P26', 'P27', 'P28', 'P29', 'P30', 'P31', 'P32', 'P33', 'P34', 'P35',\n",
       "       'P36', 'P37', 'P38', 'P39', 'P40', 'P41', 'P42', 'P43', 'P44', 'P45',\n",
       "       'P46', 'P47', 'P48', 'P49', 'P50', 'P51', 'P52', 'GHI_TOA',\n",
       "       'Sky_Diffuse_Isotropic_POA_P05', 'SAPM_Temp_Model_P05',\n",
       "       'Power_Model_P05'],\n",
       "      dtype='object')"
      ]
     },
     "execution_count": 18,
     "metadata": {},
     "output_type": "execute_result"
    }
   ],
   "source": [
    "Clean_data.columns"
   ]
  },
  {
   "cell_type": "markdown",
   "id": "cc794ec9",
   "metadata": {},
   "source": [
    "# Machine learning Linear regression model\n"
   ]
  },
  {
   "cell_type": "code",
   "execution_count": 20,
   "id": "9f303952",
   "metadata": {},
   "outputs": [
    {
     "data": {
      "text/plain": [
       "<seaborn.axisgrid.FacetGrid at 0x7fcfa81e0250>"
      ]
     },
     "execution_count": 20,
     "metadata": {},
     "output_type": "execute_result"
    },
    {
     "data": {
      "image/png": "[encoded data removed]",
      "text/plain": [
       "<Figure size 360x360 with 1 Axes>"
      ]
     },
     "metadata": {
      "needs_background": "light"
     },
     "output_type": "display_data"
    }
   ],
   "source": [
    "sns.displot(Clean_data['Power_Model_P05'])"
   ]
  },
  {
   "cell_type": "code",
   "execution_count": 63,
   "id": "284cbcab",
   "metadata": {},
   "outputs": [
    {
     "data": {
      "text/html": [
       "<div>\n",
       "<style scoped>\n",
       "    .dataframe tbody tr th:only-of-type {\n",
       "        vertical-align: middle;\n",
       "    }\n",
       "\n",
       "    .dataframe tbody tr th {\n",
       "        vertical-align: top;\n",
       "    }\n",
       "\n",
       "    .dataframe thead th {\n",
       "        text-align: right;\n",
       "    }\n",
       "</style>\n",
       "<table border=\"1\" class=\"dataframe\">\n",
       "  <thead>\n",
       "    <tr style=\"text-align: right;\">\n",
       "      <th></th>\n",
       "      <th>P05</th>\n",
       "    </tr>\n",
       "    <tr>\n",
       "      <th>datetime</th>\n",
       "      <th></th>\n",
       "    </tr>\n",
       "  </thead>\n",
       "  <tbody>\n",
       "    <tr>\n",
       "      <th>2020-09-10 16:15:00+00:00</th>\n",
       "      <td>103.269</td>\n",
       "    </tr>\n",
       "    <tr>\n",
       "      <th>2020-09-10 16:30:00+00:00</th>\n",
       "      <td>71.166</td>\n",
       "    </tr>\n",
       "    <tr>\n",
       "      <th>2020-09-10 17:15:00+00:00</th>\n",
       "      <td>15.941</td>\n",
       "    </tr>\n",
       "    <tr>\n",
       "      <th>2020-09-10 17:30:00+00:00</th>\n",
       "      <td>6.333</td>\n",
       "    </tr>\n",
       "    <tr>\n",
       "      <th>2020-09-11 06:00:00+00:00</th>\n",
       "      <td>14.131</td>\n",
       "    </tr>\n",
       "    <tr>\n",
       "      <th>...</th>\n",
       "      <td>...</td>\n",
       "    </tr>\n",
       "    <tr>\n",
       "      <th>2021-12-31 14:15:00+00:00</th>\n",
       "      <td>20.243</td>\n",
       "    </tr>\n",
       "    <tr>\n",
       "      <th>2021-12-31 14:30:00+00:00</th>\n",
       "      <td>25.481</td>\n",
       "    </tr>\n",
       "    <tr>\n",
       "      <th>2021-12-31 14:45:00+00:00</th>\n",
       "      <td>16.070</td>\n",
       "    </tr>\n",
       "    <tr>\n",
       "      <th>2021-12-31 15:00:00+00:00</th>\n",
       "      <td>14.650</td>\n",
       "    </tr>\n",
       "    <tr>\n",
       "      <th>2021-12-31 15:30:00+00:00</th>\n",
       "      <td>6.191</td>\n",
       "    </tr>\n",
       "  </tbody>\n",
       "</table>\n",
       "<p>14468 rows × 1 columns</p>\n",
       "</div>"
      ],
      "text/plain": [
       "                               P05\n",
       "datetime                          \n",
       "2020-09-10 16:15:00+00:00  103.269\n",
       "2020-09-10 16:30:00+00:00   71.166\n",
       "2020-09-10 17:15:00+00:00   15.941\n",
       "2020-09-10 17:30:00+00:00    6.333\n",
       "2020-09-11 06:00:00+00:00   14.131\n",
       "...                            ...\n",
       "2021-12-31 14:15:00+00:00   20.243\n",
       "2021-12-31 14:30:00+00:00   25.481\n",
       "2021-12-31 14:45:00+00:00   16.070\n",
       "2021-12-31 15:00:00+00:00   14.650\n",
       "2021-12-31 15:30:00+00:00    6.191\n",
       "\n",
       "[14468 rows x 1 columns]"
      ]
     },
     "execution_count": 63,
     "metadata": {},
     "output_type": "execute_result"
    }
   ],
   "source": [
    "Clean_data1X = Clean_data[['POA','Tp']]\n",
    "Clean_data1X\n",
    "Clean_data1Y = Clean_data[['P05']]\n",
    "Clean_data1Y"
   ]
  },
  {
   "cell_type": "code",
   "execution_count": 64,
   "id": "face385b",
   "metadata": {},
   "outputs": [],
   "source": [
    "from sklearn.model_selection import train_test_split\n",
    "X_train, X_test, y_train, y_test = train_test_split(Clean_data1X, Clean_data1Y, test_size=0.4, random_state=101)"
   ]
  },
  {
   "cell_type": "code",
   "execution_count": 65,
   "id": "dc0ec99a",
   "metadata": {},
   "outputs": [],
   "source": [
    "from sklearn.linear_model import LinearRegression\n",
    "lm = LinearRegression()"
   ]
  },
  {
   "cell_type": "code",
   "execution_count": 66,
   "id": "334e53ff",
   "metadata": {},
   "outputs": [
    {
     "data": {
      "text/plain": [
       "LinearRegression()"
      ]
     },
     "execution_count": 66,
     "metadata": {},
     "output_type": "execute_result"
    }
   ],
   "source": [
    "lm.fit(X_train,y_train)"
   ]
  },
  {
   "cell_type": "code",
   "execution_count": 67,
   "id": "3696ae5b",
   "metadata": {},
   "outputs": [
    {
     "name": "stdout",
     "output_type": "stream",
     "text": [
      "[-1.13433093]\n"
     ]
    }
   ],
   "source": [
    " print(lm.intercept_)"
   ]
  },
  {
   "cell_type": "code",
   "execution_count": 68,
   "id": "9b9871da",
   "metadata": {},
   "outputs": [
    {
     "name": "stdout",
     "output_type": "stream",
     "text": [
      "[[0.25333708 0.48255122]]\n"
     ]
    }
   ],
   "source": [
    "print(lm.coef_)"
   ]
  },
  {
   "cell_type": "code",
   "execution_count": 69,
   "id": "63dda49a",
   "metadata": {},
   "outputs": [],
   "source": [
    "predictions = lm.predict(X_test)"
   ]
  },
  {
   "cell_type": "code",
   "execution_count": 72,
   "id": "3f28ac43",
   "metadata": {},
   "outputs": [
    {
     "data": {
      "text/plain": [
       "<matplotlib.collections.PathCollection at 0x7fcf88bd66d0>"
      ]
     },
     "execution_count": 72,
     "metadata": {},
     "output_type": "execute_result"
    },
    {
     "data": {
      "image/png": "[encoded data removed]",
      "text/plain": [
       "<Figure size 1080x468 with 1 Axes>"
      ]
     },
     "metadata": {
      "needs_background": "light"
     },
     "output_type": "display_data"
    }
   ],
   "source": [
    "plt.scatter(y_test,predictions,s=2)"
   ]
  },
  {
   "cell_type": "code",
   "execution_count": 61,
   "id": "64f477e5",
   "metadata": {},
   "outputs": [
    {
     "name": "stderr",
     "output_type": "stream",
     "text": [
      "/opt/anaconda3/lib/python3.8/site-packages/seaborn/distributions.py:2557: FutureWarning: `distplot` is a deprecated function and will be removed in a future version. Please adapt your code to use either `displot` (a figure-level function with similar flexibility) or `histplot` (an axes-level function for histograms).\n",
      "  warnings.warn(msg, FutureWarning)\n"
     ]
    },
    {
     "ename": "ValueError",
     "evalue": "The truth value of an array with more than one element is ambiguous. Use a.any() or a.all()",
     "output_type": "error",
     "traceback": [
      "\u001b[0;31m---------------------------------------------------------------------------\u001b[0m",
      "\u001b[0;31mValueError\u001b[0m                                Traceback (most recent call last)",
      "\u001b[0;32m<ipython-input-61-63140add5b23>\u001b[0m in \u001b[0;36m<module>\u001b[0;34m\u001b[0m\n\u001b[0;32m----> 1\u001b[0;31m \u001b[0msns\u001b[0m\u001b[0;34m.\u001b[0m\u001b[0mdistplot\u001b[0m\u001b[0;34m(\u001b[0m\u001b[0;34m(\u001b[0m\u001b[0my_test\u001b[0m \u001b[0;34m-\u001b[0m \u001b[0mpredictions\u001b[0m\u001b[0;34m)\u001b[0m\u001b[0;34m)\u001b[0m\u001b[0;34m\u001b[0m\u001b[0;34m\u001b[0m\u001b[0m\n\u001b[0m",
      "\u001b[0;32m/opt/anaconda3/lib/python3.8/site-packages/seaborn/distributions.py\u001b[0m in \u001b[0;36mdistplot\u001b[0;34m(a, bins, hist, kde, rug, fit, hist_kws, kde_kws, rug_kws, fit_kws, color, vertical, norm_hist, axlabel, label, ax, x)\u001b[0m\n\u001b[1;32m   2618\u001b[0m         ax.hist(a, bins, orientation=orientation,\n\u001b[1;32m   2619\u001b[0m                 color=hist_color, **hist_kws)\n\u001b[0;32m-> 2620\u001b[0;31m         \u001b[0;32mif\u001b[0m \u001b[0mhist_color\u001b[0m \u001b[0;34m!=\u001b[0m \u001b[0mcolor\u001b[0m\u001b[0;34m:\u001b[0m\u001b[0;34m\u001b[0m\u001b[0;34m\u001b[0m\u001b[0m\n\u001b[0m\u001b[1;32m   2621\u001b[0m             \u001b[0mhist_kws\u001b[0m\u001b[0;34m[\u001b[0m\u001b[0;34m\"color\"\u001b[0m\u001b[0;34m]\u001b[0m \u001b[0;34m=\u001b[0m \u001b[0mhist_color\u001b[0m\u001b[0;34m\u001b[0m\u001b[0;34m\u001b[0m\u001b[0m\n\u001b[1;32m   2622\u001b[0m \u001b[0;34m\u001b[0m\u001b[0m\n",
      "\u001b[0;31mValueError\u001b[0m: The truth value of an array with more than one element is ambiguous. Use a.any() or a.all()"
     ]
    },
    {
     "data": {
      "image/png": "[encoded data removed]",
      "text/plain": [
       "<Figure size 1080x468 with 1 Axes>"
      ]
     },
     "metadata": {
      "needs_background": "light"
     },
     "output_type": "display_data"
    }
   ],
   "source": [
    "sns.distplot((y_test - predictions))"
   ]
  },
  {
   "cell_type": "code",
   "execution_count": 74,
   "id": "026741b6",
   "metadata": {},
   "outputs": [
    {
     "data": {
      "text/plain": [
       "24.6680586180494"
      ]
     },
     "execution_count": 74,
     "metadata": {},
     "output_type": "execute_result"
    }
   ],
   "source": [
    "from sklearn.metrics import mean_squared_error, mean_absolute_error\n",
    "np.sqrt(mean_squared_error(y_test, predictions))"
   ]
  },
  {
   "cell_type": "code",
   "execution_count": 50,
   "id": "54641abc",
   "metadata": {},
   "outputs": [
    {
     "data": {
      "text/plain": [
       "<AxesSubplot:xlabel='datetime'>"
      ]
     },
     "execution_count": 50,
     "metadata": {},
     "output_type": "execute_result"
    },
    {
     "data": {
      "image/png": "[encoded data removed]",
      "text/plain": [
       "<Figure size 1080x468 with 1 Axes>"
      ]
     },
     "metadata": {
      "needs_background": "light"
     },
     "output_type": "display_data"
    }
   ],
   "source": [
    "Clean_data.Power_Model_P05.plot()\n",
    "plt.ylim(0,400)\n",
    "Clean_data.loc[:]['P05'].plot()"
   ]
  },
  {
   "cell_type": "code",
   "execution_count": 51,
   "id": "8a588186",
   "metadata": {},
   "outputs": [
    {
     "data": {
      "text/plain": [
       "12.65333647194141"
      ]
     },
     "execution_count": 51,
     "metadata": {},
     "output_type": "execute_result"
    },
    {
     "data": {
      "image/png": "[encoded data removed]",
      "text/plain": [
       "<Figure size 1080x468 with 1 Axes>"
      ]
     },
     "metadata": {
      "needs_background": "light"
     },
     "output_type": "display_data"
    }
   ],
   "source": [
    "plt.scatter(Clean_data.loc[:]['P05'].index, Clean_data.Power_Model_P05 - Clean_data.loc[:]['P05'], s=4)\n",
    "plt.ylim(-20,30)\n",
    "from sklearn.metrics import mean_squared_error, mean_absolute_error\n",
    "mean_absolute_error(Clean_data.Power_Model_P05, Clean_data.P05)"
   ]
  },
  {
   "cell_type": "code",
   "execution_count": null,
   "id": "b917762f",
   "metadata": {},
   "outputs": [],
   "source": []
  },
  {
   "cell_type": "markdown",
   "id": "c6542a2f",
   "metadata": {},
   "source": [
    "# Modelling Power for P13(Mono-Si White) using Temp and POA models"
   ]
  },
  {
   "cell_type": "code",
   "execution_count": null,
   "id": "fa615c9b",
   "metadata": {},
   "outputs": [],
   "source": [
    "#Modelling POA for P13\n",
    "air_mass = pvlib.atmosphere.get_relative_airmass(Clean_data.SZA, model='kasten1966')\n",
    "tilt=20\n",
    "ori = 2\n",
    "doy = Clean_data.index.dayofyear\n",
    "\n",
    "Clean_data['GHI_TOA']=(pvlib.irradiance.get_extra_radiation(datetime_or_doy=doy)*np.cos(Clean_data.SZA))\n",
    "\n",
    "total_irrads=pvlib.irradiance.get_total_irradiance(surface_tilt=tilt,surface_azimuth=ori,\n",
    "                                         solar_zenith=Clean_data.SZA,solar_azimuth=Clean_data.SAA,\n",
    "                                         dni=Clean_data.Direct_Solar_Flux,\n",
    "                                         ghi=Clean_data.Global_Solar_Flux,\n",
    "                                         dhi=Clean_data.Diffuse_Solar_Flux,\n",
    "                                         dni_extra=Clean_data.GHI_TOA,\n",
    "                                         airmass=air_mass,\n",
    "                                         albedo=.20,\n",
    "                                         model='isotropic')\n",
    "Clean_data['Sky_Diffuse_Isotropic_POA_P13']=total_irrads.poa_global\n",
    "Clean_data.Sky_Diffuse_Isotropic_POA_P13"
   ]
  },
  {
   "cell_type": "code",
   "execution_count": null,
   "id": "d125fed1",
   "metadata": {},
   "outputs": [],
   "source": [
    "#Temp Modelling for P13\n",
    "Clean_data['SAPM_Temp_Model_P13']=pvlib.temperature.sapm_module(poa_global=Clean_data.Sky_Diffuse_Isotropic_POA_P13, \n",
    "                                                                temp_air=Clean_data.AirTemp,\n",
    "                                                                wind_speed=Clean_data.ws, a=-3.56, b=-0.075)\n",
    "Clean_data.SAPM_Temp_Model_P13"
   ]
  },
  {
   "cell_type": "code",
   "execution_count": null,
   "id": "9d1ce5be",
   "metadata": {},
   "outputs": [],
   "source": [
    "Clean_data['Power_Model_P13'] = pvlib.pvsystem.pvwatts_dc(g_poa_effective=Clean_data.Sky_Diffuse_Isotropic_POA_P13,\n",
    "                                                          temp_cell=Clean_data.SAPM_Temp_Model_P13,\n",
    "                                                          pdc0=300,\n",
    "                                                          gamma_pdc=-0.0037,\n",
    "                                                          temp_ref=25.0)\n",
    "Clean_data.Power_Model_P13"
   ]
  },
  {
   "cell_type": "code",
   "execution_count": null,
   "id": "93f3adfc",
   "metadata": {},
   "outputs": [],
   "source": [
    "Clean_data.replace([np.inf, -np.inf], np.nan, inplace=True)\n",
    "Clean_data.dropna(inplace=True)\n",
    "Clean_data.Power_Model_P13"
   ]
  },
  {
   "cell_type": "code",
   "execution_count": null,
   "id": "857c74ca",
   "metadata": {},
   "outputs": [],
   "source": [
    "Clean_data.Power_Model_P13.plot()\n",
    "plt.ylim(0,400)\n",
    "Clean_data.loc[:]['P13'].plot()"
   ]
  },
  {
   "cell_type": "code",
   "execution_count": null,
   "id": "aa8217e6",
   "metadata": {},
   "outputs": [],
   "source": [
    "plt.scatter(Clean_data.loc[:]['P13'].index, Clean_data.Power_Model_P13 - Clean_data.loc[:]['P13'], s=4)\n",
    "plt.ylim(-20,30)\n",
    "from sklearn.metrics import mean_squared_error, mean_absolute_error\n",
    "mean_absolute_error(Clean_data.Power_Model_P13, Clean_data.P13)"
   ]
  },
  {
   "cell_type": "code",
   "execution_count": null,
   "id": "9c1911d7",
   "metadata": {},
   "outputs": [],
   "source": []
  },
  {
   "cell_type": "code",
   "execution_count": null,
   "id": "bb2b541c",
   "metadata": {},
   "outputs": [],
   "source": []
  },
  {
   "cell_type": "code",
   "execution_count": null,
   "id": "3e2909d0",
   "metadata": {},
   "outputs": [],
   "source": []
  },
  {
   "cell_type": "code",
   "execution_count": null,
   "id": "49264b0f",
   "metadata": {},
   "outputs": [],
   "source": []
  },
  {
   "cell_type": "code",
   "execution_count": null,
   "id": "366119e1",
   "metadata": {},
   "outputs": [],
   "source": []
  },
  {
   "cell_type": "code",
   "execution_count": null,
   "id": "04323590",
   "metadata": {},
   "outputs": [],
   "source": [
    "data['Power_Model_P13'] = pvlib.pvsystem.pvwatts_dc(data.POAc20, temp_cell= Sandia_Temp_Model, pdc0 = 300, gamma_pdc= -0.0037, temp_ref=25.0)\n",
    "data.Power_Model_P13"
   ]
  },
  {
   "cell_type": "code",
   "execution_count": null,
   "id": "5ce28c01",
   "metadata": {},
   "outputs": [],
   "source": [
    "data.Power_Model_P13.plot()\n",
    "plt.ylim(0,400)\n",
    "data.loc[:]['P13'].plot()"
   ]
  },
  {
   "cell_type": "code",
   "execution_count": null,
   "id": "4d7ba75c",
   "metadata": {},
   "outputs": [],
   "source": [
    "plt.scatter(data.loc[:]['P13'].index, data.Power_Model_P13 - data.loc[:]['P13'], s=4)\n",
    "plt.ylim(-20,30)\n",
    "from sklearn.metrics import mean_squared_error, mean_absolute_error\n",
    "mean_absolute_error(data.Power_Model_P13, data.P13)"
   ]
  },
  {
   "cell_type": "markdown",
   "id": "8d571dec",
   "metadata": {},
   "source": [
    "# Modelling Power for P21(Q-Half Cells) using Temp and POA models"
   ]
  },
  {
   "cell_type": "code",
   "execution_count": null,
   "id": "2a0549b3",
   "metadata": {},
   "outputs": [],
   "source": [
    "#Modelling POA for P21\n",
    "air_mass = pvlib.atmosphere.get_relative_airmass(Clean_data.SZA, model='kasten1966')\n",
    "tilt=20\n",
    "ori = 2\n",
    "doy = Clean_data.index.dayofyear\n",
    "\n",
    "Clean_data['GHI_TOA']=(pvlib.irradiance.get_extra_radiation(datetime_or_doy=doy)*np.cos(Clean_data.SZA))\n",
    "\n",
    "total_irrads=pvlib.irradiance.get_total_irradiance(surface_tilt=tilt,surface_azimuth=ori,\n",
    "                                         solar_zenith=Clean_data.SZA,solar_azimuth=Clean_data.SAA,\n",
    "                                         dni=Clean_data.Direct_Solar_Flux,\n",
    "                                         ghi=Clean_data.Global_Solar_Flux,\n",
    "                                         dhi=Clean_data.Diffuse_Solar_Flux,\n",
    "                                         dni_extra=Clean_data.GHI_TOA,\n",
    "                                         airmass=air_mass,\n",
    "                                         albedo=.20,\n",
    "                                         model='isotropic')\n",
    "Clean_data['Sky_Diffuse_Isotropic_POA_P21']=total_irrads.poa_global\n",
    "Clean_data.Sky_Diffuse_Isotropic_POA_P21"
   ]
  },
  {
   "cell_type": "code",
   "execution_count": null,
   "id": "4aa93c60",
   "metadata": {},
   "outputs": [],
   "source": [
    "#Temp Modelling for P21\n",
    "Clean_data['SAPM_Temp_Model_P21']=pvlib.temperature.sapm_module(poa_global=Clean_data.Sky_Diffuse_Isotropic_POA_P21, \n",
    "                                                                temp_air=Clean_data.AirTemp,\n",
    "                                                                wind_speed=Clean_data.ws, a=-3.56, b=-0.075)\n",
    "Clean_data.SAPM_Temp_Model_P21"
   ]
  },
  {
   "cell_type": "code",
   "execution_count": null,
   "id": "ef2b14f3",
   "metadata": {},
   "outputs": [],
   "source": [
    "Clean_data['Power_Model_P21'] = pvlib.pvsystem.pvwatts_dc(g_poa_effective=Clean_data.Sky_Diffuse_Isotropic_POA_P21,\n",
    "                                                          temp_cell=Clean_data.SAPM_Temp_Model_P21,\n",
    "                                                          pdc0=345,\n",
    "                                                          gamma_pdc=-0.0037,\n",
    "                                                          temp_ref=25.0)\n",
    "Clean_data.Power_Model_P21"
   ]
  },
  {
   "cell_type": "code",
   "execution_count": null,
   "id": "af4984c3",
   "metadata": {},
   "outputs": [],
   "source": [
    "Clean_data.replace([np.inf, -np.inf], np.nan, inplace=True)\n",
    "Clean_data.dropna(inplace=True)\n",
    "Clean_data.Power_Model_P21"
   ]
  },
  {
   "cell_type": "code",
   "execution_count": null,
   "id": "ec769ad0",
   "metadata": {},
   "outputs": [],
   "source": [
    "Clean_data.Power_Model_P21.plot()\n",
    "plt.ylim(0,400)\n",
    "Clean_data.loc[:]['P21'].plot()"
   ]
  },
  {
   "cell_type": "code",
   "execution_count": null,
   "id": "ea5c2bb5",
   "metadata": {},
   "outputs": [],
   "source": [
    "plt.scatter(Clean_data.loc[:]['P21'].index, Clean_data.Power_Model_P21 - Clean_data.loc[:]['P21'], s=4)\n",
    "plt.ylim(-20,30)\n",
    "from sklearn.metrics import mean_squared_error, mean_absolute_error\n",
    "mean_absolute_error(Clean_data.Power_Model_P21, Clean_data.P21)"
   ]
  },
  {
   "cell_type": "code",
   "execution_count": null,
   "id": "6ce2ca73",
   "metadata": {},
   "outputs": [],
   "source": []
  },
  {
   "cell_type": "code",
   "execution_count": null,
   "id": "cabe2331",
   "metadata": {},
   "outputs": [],
   "source": []
  },
  {
   "cell_type": "code",
   "execution_count": null,
   "id": "e1a4bb68",
   "metadata": {},
   "outputs": [],
   "source": []
  },
  {
   "cell_type": "code",
   "execution_count": null,
   "id": "0a3f0f9a",
   "metadata": {},
   "outputs": [],
   "source": []
  },
  {
   "cell_type": "code",
   "execution_count": null,
   "id": "f48ef97e",
   "metadata": {},
   "outputs": [],
   "source": [
    "data['Power_Model_P21'] = pvlib.pvsystem.pvwatts_dc(data.POAc20, temp_cell= Sandia_Temp_Model, pdc0 = 345, gamma_pdc= -0.0037, temp_ref=25.0)\n",
    "data.Power_Model_P21"
   ]
  },
  {
   "cell_type": "code",
   "execution_count": null,
   "id": "bd91c9a4",
   "metadata": {},
   "outputs": [],
   "source": [
    "data.Power_Model_P21.plot()\n",
    "plt.ylim(0,400)\n",
    "data.loc[:]['P21'].plot()"
   ]
  },
  {
   "cell_type": "code",
   "execution_count": null,
   "id": "3bb06258",
   "metadata": {
    "scrolled": false
   },
   "outputs": [],
   "source": [
    "plt.scatter(data.loc[:]['P21'].index, data.Power_Model_P21 - data.loc[:]['P21'], s=4)\n",
    "plt.ylim(-20,30)\n",
    "from sklearn.metrics import mean_squared_error, mean_absolute_error\n",
    "mean_absolute_error(data.Power_Model_P21, data.P21)"
   ]
  },
  {
   "cell_type": "markdown",
   "id": "b8a80b5f",
   "metadata": {},
   "source": [
    "# Modelling Power for P28(MONO PERC Half Cells) using Temp and POA models"
   ]
  },
  {
   "cell_type": "code",
   "execution_count": null,
   "id": "27bd7881",
   "metadata": {},
   "outputs": [],
   "source": [
    "#Modelling POA for P28\n",
    "air_mass = pvlib.atmosphere.get_relative_airmass(Clean_data.SZA, model='kasten1966')\n",
    "tilt=20\n",
    "ori = 2\n",
    "doy = Clean_data.index.dayofyear\n",
    "\n",
    "Clean_data['GHI_TOA']=(pvlib.irradiance.get_extra_radiation(datetime_or_doy=doy)*np.cos(Clean_data.SZA))\n",
    "\n",
    "total_irrads=pvlib.irradiance.get_total_irradiance(surface_tilt=tilt,surface_azimuth=ori,\n",
    "                                         solar_zenith=Clean_data.SZA,solar_azimuth=Clean_data.SAA,\n",
    "                                         dni=Clean_data.Direct_Solar_Flux,\n",
    "                                         ghi=Clean_data.Global_Solar_Flux,\n",
    "                                         dhi=Clean_data.Diffuse_Solar_Flux,\n",
    "                                         dni_extra=Clean_data.GHI_TOA,\n",
    "                                         airmass=air_mass,\n",
    "                                         albedo=.20,\n",
    "                                         model='isotropic')\n",
    "Clean_data['Sky_Diffuse_Isotropic_POA_P28']=total_irrads.poa_global\n",
    "Clean_data.Sky_Diffuse_Isotropic_POA_P28"
   ]
  },
  {
   "cell_type": "code",
   "execution_count": null,
   "id": "c61e9ae8",
   "metadata": {},
   "outputs": [],
   "source": [
    "#Temp Modelling for P28\n",
    "Clean_data['SAPM_Temp_Model_P28']=pvlib.temperature.sapm_module(poa_global=Clean_data.Sky_Diffuse_Isotropic_POA_P28, \n",
    "                                                                temp_air=Clean_data.AirTemp,\n",
    "                                                                wind_speed=Clean_data.ws, a=-3.56, b=-0.075)\n",
    "Clean_data.SAPM_Temp_Model_P28"
   ]
  },
  {
   "cell_type": "code",
   "execution_count": null,
   "id": "f8bb3397",
   "metadata": {},
   "outputs": [],
   "source": [
    "Clean_data['Power_Model_P28'] = pvlib.pvsystem.pvwatts_dc(g_poa_effective=Clean_data.Sky_Diffuse_Isotropic_POA_P28,\n",
    "                                                          temp_cell=Clean_data.SAPM_Temp_Model_P28,\n",
    "                                                          pdc0=320,\n",
    "                                                          gamma_pdc=-0.0037,\n",
    "                                                          temp_ref=25.0)\n",
    "Clean_data.Power_Model_P28"
   ]
  },
  {
   "cell_type": "code",
   "execution_count": null,
   "id": "f71df2c7",
   "metadata": {},
   "outputs": [],
   "source": [
    "Clean_data.replace([np.inf, -np.inf], np.nan, inplace=True)\n",
    "Clean_data.dropna(inplace=True)\n",
    "Clean_data.Power_Model_P28"
   ]
  },
  {
   "cell_type": "code",
   "execution_count": null,
   "id": "be9b9dfc",
   "metadata": {},
   "outputs": [],
   "source": [
    "Clean_data.Power_Model_P28.plot()\n",
    "plt.ylim(0,400)\n",
    "Clean_data.loc[:]['P28'].plot()"
   ]
  },
  {
   "cell_type": "code",
   "execution_count": null,
   "id": "f69f7c02",
   "metadata": {},
   "outputs": [],
   "source": [
    "plt.scatter(Clean_data.loc[:]['P28'].index, Clean_data.Power_Model_P28 - Clean_data.loc[:]['P28'], s=4)\n",
    "plt.ylim(-20,30)\n",
    "from sklearn.metrics import mean_squared_error, mean_absolute_error\n",
    "mean_absolute_error(Clean_data.Power_Model_P28, Clean_data.P28)"
   ]
  },
  {
   "cell_type": "code",
   "execution_count": null,
   "id": "4f45ba6a",
   "metadata": {},
   "outputs": [],
   "source": []
  },
  {
   "cell_type": "code",
   "execution_count": null,
   "id": "2a684ed0",
   "metadata": {},
   "outputs": [],
   "source": []
  },
  {
   "cell_type": "code",
   "execution_count": null,
   "id": "1a48f69a",
   "metadata": {},
   "outputs": [],
   "source": []
  },
  {
   "cell_type": "code",
   "execution_count": null,
   "id": "366bab66",
   "metadata": {},
   "outputs": [],
   "source": []
  },
  {
   "cell_type": "code",
   "execution_count": null,
   "id": "21a648ba",
   "metadata": {},
   "outputs": [],
   "source": [
    "data['Power_Model_P28'] = pvlib.pvsystem.pvwatts_dc(data.POAc20, temp_cell= Sandia_Temp_Model, pdc0 = 320, gamma_pdc= -0.0037, temp_ref=25.0)\n",
    "data.Power_Model_P28"
   ]
  },
  {
   "cell_type": "code",
   "execution_count": null,
   "id": "8e5555a0",
   "metadata": {},
   "outputs": [],
   "source": [
    "data.Power_Model_P28.plot()\n",
    "plt.ylim(0,400)\n",
    "data.loc[:]['P28'].plot()"
   ]
  },
  {
   "cell_type": "code",
   "execution_count": null,
   "id": "0b9641db",
   "metadata": {},
   "outputs": [],
   "source": [
    "plt.scatter(data.loc[:]['P28'].index, data.Power_Model_P28 - data.loc[:]['P28'], s=4)\n",
    "plt.ylim(-20,30)\n",
    "from sklearn.metrics import mean_squared_error, mean_absolute_error\n",
    "mean_absolute_error(data.Power_Model_P28, data.P28)"
   ]
  },
  {
   "cell_type": "code",
   "execution_count": null,
   "id": "2947e22c",
   "metadata": {},
   "outputs": [],
   "source": []
  },
  {
   "cell_type": "code",
   "execution_count": null,
   "id": "db5cb97c",
   "metadata": {},
   "outputs": [],
   "source": []
  },
  {
   "cell_type": "code",
   "execution_count": null,
   "id": "213010f7",
   "metadata": {},
   "outputs": [],
   "source": []
  },
  {
   "cell_type": "code",
   "execution_count": null,
   "id": "77cf81dc",
   "metadata": {},
   "outputs": [],
   "source": []
  },
  {
   "cell_type": "markdown",
   "id": "e1bb8693",
   "metadata": {},
   "source": [
    "# Modelling the Power of P29(MONO PERC) using temp and POA models"
   ]
  },
  {
   "cell_type": "code",
   "execution_count": null,
   "id": "cfbfa0e6",
   "metadata": {},
   "outputs": [],
   "source": [
    "#Modelling POA for P29\n",
    "air_mass = pvlib.atmosphere.get_relative_airmass(Clean_data.SZA, model='kasten1966')\n",
    "tilt=20\n",
    "ori = 2\n",
    "doy = Clean_data.index.dayofyear\n",
    "\n",
    "Clean_data['GHI_TOA']=(pvlib.irradiance.get_extra_radiation(datetime_or_doy=doy)*np.cos(Clean_data.SZA))\n",
    "\n",
    "total_irrads=pvlib.irradiance.get_total_irradiance(surface_tilt=tilt,surface_azimuth=ori,\n",
    "                                         solar_zenith=Clean_data.SZA,solar_azimuth=Clean_data.SAA,\n",
    "                                         dni=Clean_data.Direct_Solar_Flux,\n",
    "                                         ghi=Clean_data.Global_Solar_Flux,\n",
    "                                         dhi=Clean_data.Diffuse_Solar_Flux,\n",
    "                                         dni_extra=Clean_data.GHI_TOA,\n",
    "                                         airmass=air_mass,\n",
    "                                         albedo=.20,\n",
    "                                         model='isotropic')\n",
    "Clean_data['Sky_Diffuse_Isotropic_POA_P29']=total_irrads.poa_global\n",
    "Clean_data.Sky_Diffuse_Isotropic_POA_P29"
   ]
  },
  {
   "cell_type": "code",
   "execution_count": null,
   "id": "71d27171",
   "metadata": {},
   "outputs": [],
   "source": [
    "#Temp Modelling for P29\n",
    "Clean_data['SAPM_Temp_Model_P29']=pvlib.temperature.sapm_module(poa_global=Clean_data.Sky_Diffuse_Isotropic_POA_P29, \n",
    "                                                                temp_air=Clean_data.AirTemp,\n",
    "                                                                wind_speed=Clean_data.ws, a=-3.56, b=-0.075)\n",
    "Clean_data.SAPM_Temp_Model_P29"
   ]
  },
  {
   "cell_type": "code",
   "execution_count": null,
   "id": "b2ac67e1",
   "metadata": {},
   "outputs": [],
   "source": [
    "Clean_data['Power_Model_P29'] = pvlib.pvsystem.pvwatts_dc(g_poa_effective=Clean_data.Sky_Diffuse_Isotropic_POA_P29,\n",
    "                                                          temp_cell=Clean_data.SAPM_Temp_Model_P29,\n",
    "                                                          pdc0=310,\n",
    "                                                          gamma_pdc=-0.0037,\n",
    "                                                          temp_ref=25.0)\n",
    "Clean_data.Power_Model_P29"
   ]
  },
  {
   "cell_type": "code",
   "execution_count": null,
   "id": "557d9af8",
   "metadata": {},
   "outputs": [],
   "source": [
    "Clean_data.replace([np.inf, -np.inf], np.nan, inplace=True)\n",
    "Clean_data.dropna(inplace=True)\n",
    "Clean_data.Power_Model_P29"
   ]
  },
  {
   "cell_type": "code",
   "execution_count": null,
   "id": "b33ba59d",
   "metadata": {},
   "outputs": [],
   "source": [
    "Clean_data.Power_Model_P29.plot()\n",
    "plt.ylim(0,400)\n",
    "Clean_data.loc[:]['P29'].plot()"
   ]
  },
  {
   "cell_type": "code",
   "execution_count": null,
   "id": "c94dd63d",
   "metadata": {},
   "outputs": [],
   "source": [
    "plt.scatter(Clean_data.loc[:]['P29'].index, Clean_data.Power_Model_P29 - Clean_data.loc[:]['P29'], s=4)\n",
    "plt.ylim(-20,30)\n",
    "from sklearn.metrics import mean_squared_error, mean_absolute_error\n",
    "mean_absolute_error(Clean_data.Power_Model_P29, Clean_data.P29)"
   ]
  },
  {
   "cell_type": "code",
   "execution_count": null,
   "id": "a977effe",
   "metadata": {},
   "outputs": [],
   "source": []
  },
  {
   "cell_type": "code",
   "execution_count": null,
   "id": "9acd6e35",
   "metadata": {},
   "outputs": [],
   "source": []
  },
  {
   "cell_type": "code",
   "execution_count": null,
   "id": "e1e56e69",
   "metadata": {},
   "outputs": [],
   "source": []
  },
  {
   "cell_type": "code",
   "execution_count": null,
   "id": "dcc4ff9b",
   "metadata": {},
   "outputs": [],
   "source": []
  },
  {
   "cell_type": "markdown",
   "id": "a396c7aa",
   "metadata": {},
   "source": [
    "# Modelling the Power of P37 to find the effect of Bificial PERC"
   ]
  },
  {
   "cell_type": "code",
   "execution_count": null,
   "id": "402440ca",
   "metadata": {},
   "outputs": [],
   "source": [
    "#Modelling POA for P37\n",
    "air_mass = pvlib.atmosphere.get_relative_airmass(Clean_data.SZA, model='kasten1966')\n",
    "tilt=20\n",
    "ori = 2\n",
    "doy = Clean_data.index.dayofyear\n",
    "\n",
    "Clean_data['GHI_TOA']=(pvlib.irradiance.get_extra_radiation(datetime_or_doy=doy)*np.cos(Clean_data.SZA))\n",
    "\n",
    "total_irrads=pvlib.irradiance.get_total_irradiance(surface_tilt=tilt,surface_azimuth=ori,\n",
    "                                         solar_zenith=Clean_data.SZA,solar_azimuth=Clean_data.SAA,\n",
    "                                         dni=Clean_data.Direct_Solar_Flux,\n",
    "                                         ghi=Clean_data.Global_Solar_Flux,\n",
    "                                         dhi=Clean_data.Diffuse_Solar_Flux,\n",
    "                                         dni_extra=Clean_data.GHI_TOA,\n",
    "                                         airmass=air_mass,\n",
    "                                         albedo=.20,\n",
    "                                         model='isotropic')\n",
    "Clean_data['Sky_Diffuse_Isotropic_POA_P37']=total_irrads.poa_global\n",
    "Clean_data.Sky_Diffuse_Isotropic_POA_P37"
   ]
  },
  {
   "cell_type": "code",
   "execution_count": null,
   "id": "7fe40c82",
   "metadata": {},
   "outputs": [],
   "source": [
    "#Temp Modelling for P37\n",
    "Clean_data['SAPM_Temp_Model_P37']=pvlib.temperature.sapm_module(poa_global=Clean_data.Sky_Diffuse_Isotropic_POA_P37, \n",
    "                                                                temp_air=Clean_data.AirTemp,\n",
    "                                                                wind_speed=Clean_data.ws, a=-3.56, b=-0.075)\n",
    "Clean_data.SAPM_Temp_Model_P37"
   ]
  },
  {
   "cell_type": "code",
   "execution_count": null,
   "id": "799442b6",
   "metadata": {},
   "outputs": [],
   "source": [
    "Clean_data['Power_Model_P37'] = pvlib.pvsystem.pvwatts_dc(g_poa_effective= 1 * Clean_data.Sky_Diffuse_Isotropic_POA_P37,\n",
    "                                                          temp_cell=Clean_data.SAPM_Temp_Model_P37,\n",
    "                                                          pdc0=305,\n",
    "                                                          gamma_pdc=-0.0037,\n",
    "                                                          temp_ref=25.0)\n",
    "Clean_data.Power_Model_P37"
   ]
  },
  {
   "cell_type": "code",
   "execution_count": null,
   "id": "a2d54d49",
   "metadata": {},
   "outputs": [],
   "source": [
    "Clean_data.replace([np.inf, -np.inf], np.nan, inplace=True)\n",
    "Clean_data.dropna(inplace=True)\n",
    "Clean_data.Power_Model_P37"
   ]
  },
  {
   "cell_type": "code",
   "execution_count": null,
   "id": "3d3531a8",
   "metadata": {},
   "outputs": [],
   "source": [
    "Clean_data.Power_Model_P37.plot()\n",
    "plt.ylim(0,400)\n",
    "Clean_data.loc[:]['P37'].plot()"
   ]
  },
  {
   "cell_type": "code",
   "execution_count": null,
   "id": "bcc1bcf6",
   "metadata": {},
   "outputs": [],
   "source": []
  },
  {
   "cell_type": "code",
   "execution_count": null,
   "id": "71f70958",
   "metadata": {},
   "outputs": [],
   "source": []
  },
  {
   "cell_type": "code",
   "execution_count": null,
   "id": "b805bfe4",
   "metadata": {},
   "outputs": [],
   "source": [
    "plt.scatter(Clean_data.loc[:]['P37'].index, Clean_data.Power_Model_P37 - Clean_data.loc[:]['P37'], s=4)\n",
    "plt.ylim(-20,30)\n",
    "from sklearn.metrics import mean_squared_error, mean_absolute_error\n",
    "mean_absolute_error(Clean_data.Power_Model_P37, Clean_data.P37)"
   ]
  },
  {
   "cell_type": "code",
   "execution_count": null,
   "id": "a8b6caa5",
   "metadata": {},
   "outputs": [],
   "source": []
  },
  {
   "cell_type": "code",
   "execution_count": null,
   "id": "bc27468d",
   "metadata": {},
   "outputs": [],
   "source": []
  },
  {
   "cell_type": "code",
   "execution_count": null,
   "id": "d4331c70",
   "metadata": {},
   "outputs": [],
   "source": []
  },
  {
   "cell_type": "code",
   "execution_count": null,
   "id": "015a2322",
   "metadata": {},
   "outputs": [],
   "source": []
  },
  {
   "cell_type": "code",
   "execution_count": null,
   "id": "fdd7ae37",
   "metadata": {},
   "outputs": [],
   "source": []
  },
  {
   "cell_type": "code",
   "execution_count": null,
   "id": "1854aad8",
   "metadata": {},
   "outputs": [],
   "source": []
  },
  {
   "cell_type": "code",
   "execution_count": null,
   "id": "4e819cce",
   "metadata": {},
   "outputs": [],
   "source": []
  },
  {
   "cell_type": "code",
   "execution_count": null,
   "id": "9acf6685",
   "metadata": {},
   "outputs": [],
   "source": []
  },
  {
   "cell_type": "code",
   "execution_count": null,
   "id": "ea4ca665",
   "metadata": {},
   "outputs": [],
   "source": []
  },
  {
   "cell_type": "code",
   "execution_count": null,
   "id": "17952ad4",
   "metadata": {},
   "outputs": [],
   "source": []
  },
  {
   "cell_type": "code",
   "execution_count": null,
   "id": "22880a70",
   "metadata": {},
   "outputs": [],
   "source": []
  },
  {
   "cell_type": "code",
   "execution_count": null,
   "id": "d36db755",
   "metadata": {},
   "outputs": [],
   "source": [
    "data['Power_Model_P37'] = pvlib.pvsystem.pvwatts_dc(data.POAc20, temp_cell= Sandia_Temp_Model, pdc0 = 305, gamma_pdc= -0.0037, temp_ref=25.0)\n",
    "data.Power_Model_P37"
   ]
  },
  {
   "cell_type": "code",
   "execution_count": null,
   "id": "8ae8ed44",
   "metadata": {},
   "outputs": [],
   "source": [
    "data.Power_Model_P37.plot()\n",
    "plt.ylim(0,400)\n",
    "data.loc[:]['P37'].plot()"
   ]
  },
  {
   "cell_type": "code",
   "execution_count": null,
   "id": "b7308b5f",
   "metadata": {},
   "outputs": [],
   "source": [
    "plt.scatter(data.loc[:]['P37'].index, data.Power_Model_P37 - data.loc[:]['P37'], s=4)\n",
    "plt.ylim(-20,30)\n",
    "from sklearn.metrics import mean_squared_error, mean_absolute_error\n",
    "mean_absolute_error(data.Power_Model_P37, data.P37)"
   ]
  },
  {
   "cell_type": "code",
   "execution_count": null,
   "id": "40344475",
   "metadata": {},
   "outputs": [],
   "source": [
    "# More of -ve variation in case of Bificial"
   ]
  }
 ],
 "metadata": {
  "kernelspec": {
   "display_name": "Python 3",
   "language": "python",
   "name": "python3"
  },
  "language_info": {
   "codemirror_mode": {
    "name": "ipython",
    "version": 3
   },
   "file_extension": ".py",
   "mimetype": "text/x-python",
   "name": "python",
   "nbconvert_exporter": "python",
   "pygments_lexer": "ipython3",
   "version": "3.8.8"
  }
 },
 "nbformat": 4,
 "nbformat_minor": 5
}
